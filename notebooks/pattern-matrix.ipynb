{
 "cells": [
  {
   "cell_type": "markdown",
   "metadata": {},
   "source": [
    "# Pattern Matrix Replacement\n",
    "\n",
    "This this notebook we explore strategies to replace the ***Hit Correlation*** step of Konrad's pipeline, specifically the *patten matrix* algorithm previously used.\n",
    "\n",
    "## Approach\n",
    "I am thinking of two approaches. First, use a simple MLP to determine if two given points are *causally related* or not. To do this, the following tasks are required:\n",
    "- [x] prepare the data such that each row contains the features (x,y,z,time/timeslice) of each pair of points (exluding self)\n",
    "    - [ ] subtask here is to use PCA to reduce the dimensions and see if the network performs same/worse\n",
    "- [X] create labels for training set ie. *1* of related and *0* otherwise (this hinges upon the fact that we can extract labels from *mc_info* table)\n",
    "- [ ] visualize the results\n",
    "\n",
    "The other approach is to treat this as an unsupervised learning task and use clustering to determine *related* points."
   ]
  },
  {
   "cell_type": "code",
   "execution_count": 1,
   "metadata": {},
   "outputs": [],
   "source": [
    "import pandas as pd\n",
    "import matplotlib.pyplot as plt\n",
    "from context import km3net\n",
    "from km3net.data import data, pattern_matrix\n",
    "from km3net.utils import DATADIR\n"
   ]
  },
  {
   "cell_type": "code",
   "execution_count": 2,
   "metadata": {},
   "outputs": [
    {
     "ename": "NameError",
     "evalue": "name 'utils' is not defined",
     "output_type": "error",
     "traceback": [
      "\u001b[0;31m---------------------------\u001b[0m",
      "\u001b[0;31mNameError\u001b[0mTraceback (most recent call last)",
      "\u001b[0;32m<ipython-input-2-8884574068a7>\u001b[0m in \u001b[0;36m<module>\u001b[0;34m\u001b[0m\n\u001b[1;32m      1\u001b[0m \u001b[0mpath\u001b[0m \u001b[0;34m=\u001b[0m \u001b[0mkm3net\u001b[0m\u001b[0;34m.\u001b[0m\u001b[0mutils\u001b[0m\u001b[0;34m.\u001b[0m\u001b[0mDATADIR\u001b[0m \u001b[0;34m+\u001b[0m \u001b[0;34m'/train/slice-615-0-1.csv'\u001b[0m\u001b[0;34m\u001b[0m\u001b[0;34m\u001b[0m\u001b[0m\n\u001b[0;32m----> 2\u001b[0;31m \u001b[0mdf\u001b[0m \u001b[0;34m=\u001b[0m \u001b[0mutils\u001b[0m\u001b[0;34m.\u001b[0m\u001b[0mload\u001b[0m\u001b[0;34m(\u001b[0m\u001b[0mpath\u001b[0m\u001b[0;34m)\u001b[0m\u001b[0;34m\u001b[0m\u001b[0;34m\u001b[0m\u001b[0m\n\u001b[0m\u001b[1;32m      3\u001b[0m \u001b[0mdf\u001b[0m\u001b[0;34m\u001b[0m\u001b[0;34m\u001b[0m\u001b[0m\n",
      "\u001b[0;31mNameError\u001b[0m: name 'utils' is not defined"
     ]
    }
   ],
   "source": [
    "path = km3net.utils.DATADIR + '/train/slice-615-0-1.csv'\n",
    "df = utils.load(path)\n",
    "df"
   ]
  },
  {
   "cell_type": "code",
   "execution_count": 14,
   "metadata": {},
   "outputs": [
    {
     "data": {
      "text/html": [
       "<div>\n",
       "<style scoped>\n",
       "    .dataframe tbody tr th:only-of-type {\n",
       "        vertical-align: middle;\n",
       "    }\n",
       "\n",
       "    .dataframe tbody tr th {\n",
       "        vertical-align: top;\n",
       "    }\n",
       "\n",
       "    .dataframe thead th {\n",
       "        text-align: right;\n",
       "    }\n",
       "</style>\n",
       "<table border=\"1\" class=\"dataframe\">\n",
       "  <thead>\n",
       "    <tr style=\"text-align: right;\">\n",
       "      <th></th>\n",
       "      <th>pos_x</th>\n",
       "      <th>pos_y</th>\n",
       "      <th>pos_z</th>\n",
       "      <th>time</th>\n",
       "      <th>label</th>\n",
       "      <th>event_id</th>\n",
       "      <th>timeslice</th>\n",
       "    </tr>\n",
       "  </thead>\n",
       "  <tbody>\n",
       "    <tr>\n",
       "      <th>287</th>\n",
       "      <td>-16.064</td>\n",
       "      <td>-76.624</td>\n",
       "      <td>151.011</td>\n",
       "      <td>9225675.0</td>\n",
       "      <td>0</td>\n",
       "      <td>NaN</td>\n",
       "      <td>615</td>\n",
       "    </tr>\n",
       "    <tr>\n",
       "      <th>3592</th>\n",
       "      <td>-93.854</td>\n",
       "      <td>29.775</td>\n",
       "      <td>65.459</td>\n",
       "      <td>9231711.0</td>\n",
       "      <td>0</td>\n",
       "      <td>NaN</td>\n",
       "      <td>615</td>\n",
       "    </tr>\n",
       "    <tr>\n",
       "      <th>3614</th>\n",
       "      <td>-63.629</td>\n",
       "      <td>-23.757</td>\n",
       "      <td>94.341</td>\n",
       "      <td>9231763.0</td>\n",
       "      <td>0</td>\n",
       "      <td>NaN</td>\n",
       "      <td>615</td>\n",
       "    </tr>\n",
       "    <tr>\n",
       "      <th>1877</th>\n",
       "      <td>-73.311</td>\n",
       "      <td>30.290</td>\n",
       "      <td>121.731</td>\n",
       "      <td>9228239.0</td>\n",
       "      <td>0</td>\n",
       "      <td>NaN</td>\n",
       "      <td>615</td>\n",
       "    </tr>\n",
       "    <tr>\n",
       "      <th>172</th>\n",
       "      <td>-47.798</td>\n",
       "      <td>12.654</td>\n",
       "      <td>37.731</td>\n",
       "      <td>9225394.0</td>\n",
       "      <td>0</td>\n",
       "      <td>NaN</td>\n",
       "      <td>615</td>\n",
       "    </tr>\n",
       "    <tr>\n",
       "      <th>...</th>\n",
       "      <td>...</td>\n",
       "      <td>...</td>\n",
       "      <td>...</td>\n",
       "      <td>...</td>\n",
       "      <td>...</td>\n",
       "      <td>...</td>\n",
       "      <td>...</td>\n",
       "    </tr>\n",
       "    <tr>\n",
       "      <th>1072</th>\n",
       "      <td>20.518</td>\n",
       "      <td>102.115</td>\n",
       "      <td>196.331</td>\n",
       "      <td>9226515.0</td>\n",
       "      <td>0</td>\n",
       "      <td>NaN</td>\n",
       "      <td>615</td>\n",
       "    </tr>\n",
       "    <tr>\n",
       "      <th>7359</th>\n",
       "      <td>-93.950</td>\n",
       "      <td>29.716</td>\n",
       "      <td>160.131</td>\n",
       "      <td>9237828.0</td>\n",
       "      <td>0</td>\n",
       "      <td>NaN</td>\n",
       "      <td>615</td>\n",
       "    </tr>\n",
       "    <tr>\n",
       "      <th>3711</th>\n",
       "      <td>-73.486</td>\n",
       "      <td>30.199</td>\n",
       "      <td>139.889</td>\n",
       "      <td>9231970.0</td>\n",
       "      <td>0</td>\n",
       "      <td>NaN</td>\n",
       "      <td>615</td>\n",
       "    </tr>\n",
       "    <tr>\n",
       "      <th>7223</th>\n",
       "      <td>39.623</td>\n",
       "      <td>103.299</td>\n",
       "      <td>55.800</td>\n",
       "      <td>9237695.0</td>\n",
       "      <td>0</td>\n",
       "      <td>NaN</td>\n",
       "      <td>615</td>\n",
       "    </tr>\n",
       "    <tr>\n",
       "      <th>2572</th>\n",
       "      <td>-6.860</td>\n",
       "      <td>-57.851</td>\n",
       "      <td>37.841</td>\n",
       "      <td>9229671.0</td>\n",
       "      <td>0</td>\n",
       "      <td>NaN</td>\n",
       "      <td>615</td>\n",
       "    </tr>\n",
       "  </tbody>\n",
       "</table>\n",
       "<p>848 rows × 7 columns</p>\n",
       "</div>"
      ],
      "text/plain": [
       "       pos_x    pos_y    pos_z       time  label  event_id  timeslice\n",
       "287  -16.064  -76.624  151.011  9225675.0      0       NaN        615\n",
       "3592 -93.854   29.775   65.459  9231711.0      0       NaN        615\n",
       "3614 -63.629  -23.757   94.341  9231763.0      0       NaN        615\n",
       "1877 -73.311   30.290  121.731  9228239.0      0       NaN        615\n",
       "172  -47.798   12.654   37.731  9225394.0      0       NaN        615\n",
       "...      ...      ...      ...        ...    ...       ...        ...\n",
       "1072  20.518  102.115  196.331  9226515.0      0       NaN        615\n",
       "7359 -93.950   29.716  160.131  9237828.0      0       NaN        615\n",
       "3711 -73.486   30.199  139.889  9231970.0      0       NaN        615\n",
       "7223  39.623  103.299   55.800  9237695.0      0       NaN        615\n",
       "2572  -6.860  -57.851   37.841  9229671.0      0       NaN        615\n",
       "\n",
       "[848 rows x 7 columns]"
      ]
     },
     "execution_count": 14,
     "metadata": {},
     "output_type": "execute_result"
    }
   ],
   "source": [
    "sample = df.sample(frac=0.1)\n",
    "sample"
   ]
  },
  {
   "cell_type": "markdown",
   "metadata": {},
   "source": [
    "# Creating the \"Pattern Matrix\" Dataset\n",
    "\n",
    "Since this step will essentially double the width of the dataset and square it's height, we will only use timeslice 665 (timeslice with the largest hits, as per the [exploration](notebooks/exploration.ipynb) conducted previously). The algorithm to generate the dataset is as follows:\n",
    "1. create an empty dataframe to hold the `result`\n",
    "2.iterate over original df with the row and index\n",
    "    1. duplicate original df\n",
    "    2. set value of `dup` columns to that of the row\n",
    "    3. concat dup and original dfs (sideways) to create pairs\n",
    "    4. drop the rows where `id1` is less than `id2` to avoid repeat pairs\n",
    "    5. append dup to result\n",
    "    \n",
    "The algorithm was tested with a small sample of 10 rows before the dataset below was created.\n",
    "\n",
    "## Generate labels\n",
    "\n",
    "Once we \"explode\" the dataset, we need to generate labels. The logic is simple, if `eid1` and `eid2` are same then give it a label of 1, else a label of 0. There are 3 possible combinations that can occur: 1. hit-hit 2. hit-noise and 3. noise-noise. Since noise has `nan` for the event ids and since in Python `nan != nan` all 3 cases can be correctly handled by a simple comparison of the two column values.\n",
    "\n",
    "Drop the columns that are not required for training, and write to csv."
   ]
  },
  {
   "cell_type": "code",
   "execution_count": 15,
   "metadata": {},
   "outputs": [
    {
     "data": {
      "text/html": [
       "<div>\n",
       "<style scoped>\n",
       "    .dataframe tbody tr th:only-of-type {\n",
       "        vertical-align: middle;\n",
       "    }\n",
       "\n",
       "    .dataframe tbody tr th {\n",
       "        vertical-align: top;\n",
       "    }\n",
       "\n",
       "    .dataframe thead th {\n",
       "        text-align: right;\n",
       "    }\n",
       "</style>\n",
       "<table border=\"1\" class=\"dataframe\">\n",
       "  <thead>\n",
       "    <tr style=\"text-align: right;\">\n",
       "      <th></th>\n",
       "      <th>pos_x</th>\n",
       "      <th>pos_y</th>\n",
       "      <th>pos_z</th>\n",
       "      <th>time</th>\n",
       "      <th>label</th>\n",
       "      <th>timeslice</th>\n",
       "    </tr>\n",
       "    <tr>\n",
       "      <th>event_id</th>\n",
       "      <th></th>\n",
       "      <th></th>\n",
       "      <th></th>\n",
       "      <th></th>\n",
       "      <th></th>\n",
       "      <th></th>\n",
       "    </tr>\n",
       "  </thead>\n",
       "  <tbody>\n",
       "    <tr>\n",
       "      <th>1163.0</th>\n",
       "      <td>8</td>\n",
       "      <td>8</td>\n",
       "      <td>8</td>\n",
       "      <td>8</td>\n",
       "      <td>8</td>\n",
       "      <td>8</td>\n",
       "    </tr>\n",
       "    <tr>\n",
       "      <th>2042.0</th>\n",
       "      <td>107</td>\n",
       "      <td>107</td>\n",
       "      <td>107</td>\n",
       "      <td>107</td>\n",
       "      <td>107</td>\n",
       "      <td>107</td>\n",
       "    </tr>\n",
       "    <tr>\n",
       "      <th>2322.0</th>\n",
       "      <td>46</td>\n",
       "      <td>46</td>\n",
       "      <td>46</td>\n",
       "      <td>46</td>\n",
       "      <td>46</td>\n",
       "      <td>46</td>\n",
       "    </tr>\n",
       "    <tr>\n",
       "      <th>2363.0</th>\n",
       "      <td>19</td>\n",
       "      <td>19</td>\n",
       "      <td>19</td>\n",
       "      <td>19</td>\n",
       "      <td>19</td>\n",
       "      <td>19</td>\n",
       "    </tr>\n",
       "  </tbody>\n",
       "</table>\n",
       "</div>"
      ],
      "text/plain": [
       "          pos_x  pos_y  pos_z  time  label  timeslice\n",
       "event_id                                             \n",
       "1163.0        8      8      8     8      8          8\n",
       "2042.0      107    107    107   107    107        107\n",
       "2322.0       46     46     46    46     46         46\n",
       "2363.0       19     19     19    19     19         19"
      ]
     },
     "execution_count": 15,
     "metadata": {},
     "output_type": "execute_result"
    }
   ],
   "source": [
    "sample.groupby('event_id').count()"
   ]
  },
  {
   "cell_type": "code",
   "execution_count": 16,
   "metadata": {},
   "outputs": [
    {
     "data": {
      "text/html": [
       "<div>\n",
       "<style scoped>\n",
       "    .dataframe tbody tr th:only-of-type {\n",
       "        vertical-align: middle;\n",
       "    }\n",
       "\n",
       "    .dataframe tbody tr th {\n",
       "        vertical-align: top;\n",
       "    }\n",
       "\n",
       "    .dataframe thead th {\n",
       "        text-align: right;\n",
       "    }\n",
       "</style>\n",
       "<table border=\"1\" class=\"dataframe\">\n",
       "  <thead>\n",
       "    <tr style=\"text-align: right;\">\n",
       "      <th></th>\n",
       "      <th>x1</th>\n",
       "      <th>y1</th>\n",
       "      <th>z1</th>\n",
       "      <th>t1</th>\n",
       "      <th>x2</th>\n",
       "      <th>y2</th>\n",
       "      <th>z2</th>\n",
       "      <th>t2</th>\n",
       "      <th>label</th>\n",
       "    </tr>\n",
       "  </thead>\n",
       "  <tbody>\n",
       "    <tr>\n",
       "      <th>3592</th>\n",
       "      <td>-16.064</td>\n",
       "      <td>-76.624</td>\n",
       "      <td>151.011</td>\n",
       "      <td>9225675.0</td>\n",
       "      <td>-93.854</td>\n",
       "      <td>29.775</td>\n",
       "      <td>65.459</td>\n",
       "      <td>9231711.0</td>\n",
       "      <td>0</td>\n",
       "    </tr>\n",
       "    <tr>\n",
       "      <th>3614</th>\n",
       "      <td>-16.064</td>\n",
       "      <td>-76.624</td>\n",
       "      <td>151.011</td>\n",
       "      <td>9225675.0</td>\n",
       "      <td>-63.629</td>\n",
       "      <td>-23.757</td>\n",
       "      <td>94.341</td>\n",
       "      <td>9231763.0</td>\n",
       "      <td>0</td>\n",
       "    </tr>\n",
       "    <tr>\n",
       "      <th>1877</th>\n",
       "      <td>-16.064</td>\n",
       "      <td>-76.624</td>\n",
       "      <td>151.011</td>\n",
       "      <td>9225675.0</td>\n",
       "      <td>-73.311</td>\n",
       "      <td>30.290</td>\n",
       "      <td>121.731</td>\n",
       "      <td>9228239.0</td>\n",
       "      <td>0</td>\n",
       "    </tr>\n",
       "    <tr>\n",
       "      <th>172</th>\n",
       "      <td>-16.064</td>\n",
       "      <td>-76.624</td>\n",
       "      <td>151.011</td>\n",
       "      <td>9225675.0</td>\n",
       "      <td>-47.798</td>\n",
       "      <td>12.654</td>\n",
       "      <td>37.731</td>\n",
       "      <td>9225394.0</td>\n",
       "      <td>0</td>\n",
       "    </tr>\n",
       "    <tr>\n",
       "      <th>7815</th>\n",
       "      <td>-16.064</td>\n",
       "      <td>-76.624</td>\n",
       "      <td>151.011</td>\n",
       "      <td>9225675.0</td>\n",
       "      <td>58.991</td>\n",
       "      <td>31.948</td>\n",
       "      <td>37.841</td>\n",
       "      <td>9238638.0</td>\n",
       "      <td>0</td>\n",
       "    </tr>\n",
       "    <tr>\n",
       "      <th>...</th>\n",
       "      <td>...</td>\n",
       "      <td>...</td>\n",
       "      <td>...</td>\n",
       "      <td>...</td>\n",
       "      <td>...</td>\n",
       "      <td>...</td>\n",
       "      <td>...</td>\n",
       "      <td>...</td>\n",
       "      <td>...</td>\n",
       "    </tr>\n",
       "    <tr>\n",
       "      <th>7223</th>\n",
       "      <td>-93.950</td>\n",
       "      <td>29.716</td>\n",
       "      <td>160.131</td>\n",
       "      <td>9237828.0</td>\n",
       "      <td>39.623</td>\n",
       "      <td>103.299</td>\n",
       "      <td>55.800</td>\n",
       "      <td>9237695.0</td>\n",
       "      <td>0</td>\n",
       "    </tr>\n",
       "    <tr>\n",
       "      <th>2572</th>\n",
       "      <td>-93.950</td>\n",
       "      <td>29.716</td>\n",
       "      <td>160.131</td>\n",
       "      <td>9237828.0</td>\n",
       "      <td>-6.860</td>\n",
       "      <td>-57.851</td>\n",
       "      <td>37.841</td>\n",
       "      <td>9229671.0</td>\n",
       "      <td>0</td>\n",
       "    </tr>\n",
       "    <tr>\n",
       "      <th>7223</th>\n",
       "      <td>-73.486</td>\n",
       "      <td>30.199</td>\n",
       "      <td>139.889</td>\n",
       "      <td>9231970.0</td>\n",
       "      <td>39.623</td>\n",
       "      <td>103.299</td>\n",
       "      <td>55.800</td>\n",
       "      <td>9237695.0</td>\n",
       "      <td>0</td>\n",
       "    </tr>\n",
       "    <tr>\n",
       "      <th>2572</th>\n",
       "      <td>-73.486</td>\n",
       "      <td>30.199</td>\n",
       "      <td>139.889</td>\n",
       "      <td>9231970.0</td>\n",
       "      <td>-6.860</td>\n",
       "      <td>-57.851</td>\n",
       "      <td>37.841</td>\n",
       "      <td>9229671.0</td>\n",
       "      <td>0</td>\n",
       "    </tr>\n",
       "    <tr>\n",
       "      <th>2572</th>\n",
       "      <td>39.623</td>\n",
       "      <td>103.299</td>\n",
       "      <td>55.800</td>\n",
       "      <td>9237695.0</td>\n",
       "      <td>-6.860</td>\n",
       "      <td>-57.851</td>\n",
       "      <td>37.841</td>\n",
       "      <td>9229671.0</td>\n",
       "      <td>0</td>\n",
       "    </tr>\n",
       "  </tbody>\n",
       "</table>\n",
       "<p>359128 rows × 9 columns</p>\n",
       "</div>"
      ],
      "text/plain": [
       "          x1       y1       z1         t1      x2       y2       z2  \\\n",
       "3592 -16.064  -76.624  151.011  9225675.0 -93.854   29.775   65.459   \n",
       "3614 -16.064  -76.624  151.011  9225675.0 -63.629  -23.757   94.341   \n",
       "1877 -16.064  -76.624  151.011  9225675.0 -73.311   30.290  121.731   \n",
       "172  -16.064  -76.624  151.011  9225675.0 -47.798   12.654   37.731   \n",
       "7815 -16.064  -76.624  151.011  9225675.0  58.991   31.948   37.841   \n",
       "...      ...      ...      ...        ...     ...      ...      ...   \n",
       "7223 -93.950   29.716  160.131  9237828.0  39.623  103.299   55.800   \n",
       "2572 -93.950   29.716  160.131  9237828.0  -6.860  -57.851   37.841   \n",
       "7223 -73.486   30.199  139.889  9231970.0  39.623  103.299   55.800   \n",
       "2572 -73.486   30.199  139.889  9231970.0  -6.860  -57.851   37.841   \n",
       "2572  39.623  103.299   55.800  9237695.0  -6.860  -57.851   37.841   \n",
       "\n",
       "             t2  label  \n",
       "3592  9231711.0      0  \n",
       "3614  9231763.0      0  \n",
       "1877  9228239.0      0  \n",
       "172   9225394.0      0  \n",
       "7815  9238638.0      0  \n",
       "...         ...    ...  \n",
       "7223  9237695.0      0  \n",
       "2572  9229671.0      0  \n",
       "7223  9237695.0      0  \n",
       "2572  9229671.0      0  \n",
       "2572  9229671.0      0  \n",
       "\n",
       "[359128 rows x 9 columns]"
      ]
     },
     "execution_count": 16,
     "metadata": {},
     "output_type": "execute_result"
    }
   ],
   "source": [
    "exploded_sample = pattern_matrix.process(sample)\n",
    "exploded_sample"
   ]
  },
  {
   "cell_type": "code",
   "execution_count": 17,
   "metadata": {},
   "outputs": [
    {
     "name": "stdout",
     "output_type": "stream",
     "text": [
      "Shape hits: (6905, 9)\n"
     ]
    }
   ],
   "source": [
    "print('Shape hits: {0}'.format(exploded_sample[exploded_sample['label'] == 1].shape))"
   ]
  },
  {
   "cell_type": "code",
   "execution_count": 18,
   "metadata": {},
   "outputs": [
    {
     "name": "stdout",
     "output_type": "stream",
     "text": [
      "Shape noise: (352223, 9)\n"
     ]
    }
   ],
   "source": [
    "print('Shape noise: {0}'.format(exploded_sample[exploded_sample['label'] != 1].shape))"
   ]
  },
  {
   "cell_type": "code",
   "execution_count": 19,
   "metadata": {},
   "outputs": [],
   "source": [
    "exploded_sample.to_csv(DATADIR+'/train/slice-615-0-1.csv', index=False, header=False)"
   ]
  },
  {
   "cell_type": "markdown",
   "metadata": {},
   "source": [
    "# Alternative datasets\n",
    "\n",
    "- [ ] train using the difference between x,y,z,t\n",
    "- [ ] train using a larger sample (50%, 75%, 100% of slice-615)\n",
    "- [ ] train using sample from entire dataset, across timeslices"
   ]
  },
  {
   "cell_type": "markdown",
   "metadata": {},
   "source": [
    "# MLP for \"Pattern Matrix\" Replacement\n",
    "\n",
    "I followed this [tutorial](https://machinelearningmastery.com/pytorch-tutorial-develop-deep-learning-models/) to implement the first iteration of the network.\n",
    "\n",
    "1. what happens if we vary the learning rate and momentum of the optimizer?\n",
    "\n",
    "## Experiment 1\n",
    "\n",
    "- Data: 10% of slice 615 (severe class imbalance)\n",
    "- Loss: BCELoss\n",
    "- Optimizer: SGD(lr=0.001, momentum=0.9)\n",
    "- Layers: (8, 10), (10, 8)\n",
    "- Activation: hidden -> ReLu, output -> Sigmoid\n",
    "- Epochs: 10"
   ]
  },
  {
   "cell_type": "code",
   "execution_count": 1,
   "metadata": {},
   "outputs": [],
   "source": [
    "from context import km3net\n",
    "from km3net.utils import DATADIR\n",
    "import km3net.model.utils as model_utils\n",
    "from km3net.model.mlp import MLP\n",
    "from torch.nn import BCELoss\n",
    "from torch.optim import SGD\n",
    "import torch"
   ]
  },
  {
   "cell_type": "code",
   "execution_count": 2,
   "metadata": {},
   "outputs": [
    {
     "name": "stdout",
     "output_type": "stream",
     "text": [
      "240616 118512\n"
     ]
    }
   ],
   "source": [
    "path = DATADIR+'/train/slice-615-0-1.csv'\n",
    "train_dl, test_dl = model_utils.prepare_data(path)\n",
    "print(len(train_dl.dataset), len(test_dl.dataset))"
   ]
  },
  {
   "cell_type": "code",
   "execution_count": 3,
   "metadata": {},
   "outputs": [
    {
     "data": {
      "text/plain": [
       "MLP(\n",
       "  (hidden1): Linear(in_features=8, out_features=10, bias=True)\n",
       "  (act1): ReLU()\n",
       "  (hidden2): Linear(in_features=10, out_features=8, bias=True)\n",
       "  (act2): ReLU()\n",
       "  (hidden3): Linear(in_features=8, out_features=1, bias=True)\n",
       "  (act3): Sigmoid()\n",
       ")"
      ]
     },
     "execution_count": 3,
     "metadata": {},
     "output_type": "execute_result"
    }
   ],
   "source": [
    "net = MLP(8)\n",
    "device = model_utils.get_device()\n",
    "net.to(device)\n",
    "net"
   ]
  },
  {
   "cell_type": "code",
   "execution_count": 4,
   "metadata": {},
   "outputs": [],
   "source": [
    "optimizer = SGD(net.parameters(), lr=0.001, momentum=0.9)\n",
    "criterion = BCELoss()"
   ]
  },
  {
   "cell_type": "code",
   "execution_count": 5,
   "metadata": {},
   "outputs": [
    {
     "name": "stdout",
     "output_type": "stream",
     "text": [
      "[0,  1999] loss: 1.897\n",
      "[0,  3999] loss: 1.913\n",
      "[0,  5999] loss: 1.863\n",
      "[0,  7999] loss: 2.084\n",
      "[0,  9999] loss: 1.922\n",
      "[0, 11999] loss: 1.891\n",
      "[0, 13999] loss: 1.934\n",
      "[1,  1999] loss: 1.866\n",
      "[1,  3999] loss: 2.022\n",
      "[1,  5999] loss: 1.925\n",
      "[1,  7999] loss: 1.925\n",
      "[1,  9999] loss: 1.919\n",
      "[1, 11999] loss: 1.800\n",
      "[1, 13999] loss: 1.944\n",
      "[2,  1999] loss: 1.863\n",
      "[2,  3999] loss: 1.797\n",
      "[2,  5999] loss: 1.875\n",
      "[2,  7999] loss: 2.078\n",
      "[2,  9999] loss: 1.944\n",
      "[2, 11999] loss: 1.794\n",
      "[2, 13999] loss: 2.150\n",
      "[3,  1999] loss: 1.938\n",
      "[3,  3999] loss: 1.947\n",
      "[3,  5999] loss: 1.797\n",
      "[3,  7999] loss: 1.962\n",
      "[3,  9999] loss: 1.844\n",
      "[3, 11999] loss: 1.919\n",
      "[3, 13999] loss: 1.944\n",
      "[4,  1999] loss: 1.925\n",
      "[4,  3999] loss: 2.050\n",
      "[4,  5999] loss: 1.894\n",
      "[4,  7999] loss: 1.844\n",
      "[4,  9999] loss: 1.841\n",
      "[4, 11999] loss: 1.969\n",
      "[4, 13999] loss: 2.006\n"
     ]
    }
   ],
   "source": [
    "model_utils.train(train_dl, net, criterion, optimizer, epochs=5)"
   ]
  },
  {
   "cell_type": "code",
   "execution_count": 6,
   "metadata": {
    "scrolled": false
   },
   "outputs": [
    {
     "name": "stdout",
     "output_type": "stream",
     "text": [
      "[1, 2000] correct: 62809.0\n",
      "Accuracy: tensor(0.9807, device='cuda:0')\n"
     ]
    }
   ],
   "source": [
    "acc = model_utils.test(test_dl, net)\n",
    "print(\"Accuracy:\", acc)"
   ]
  },
  {
   "cell_type": "markdown",
   "metadata": {},
   "source": [
    "## Experiment 2\n",
    "\n",
    "- Data: 10% of slice 615 (equalized classes)\n",
    "- Loss: BCELoss\n",
    "- Optimizer: SGD(lr=0.001, momentum=0.9)\n",
    "- Layers: (8, 10), (10, 8)\n",
    "- Activation: hidden -> ReLu, output -> Sigmoid\n",
    "- Epochs: 10"
   ]
  },
  {
   "cell_type": "code",
   "execution_count": 22,
   "metadata": {},
   "outputs": [],
   "source": [
    "import km3net.data.utils as data_utils\n",
    "import pandas as pd\n",
    "from sklearn.utils import shuffle"
   ]
  },
  {
   "cell_type": "code",
   "execution_count": 17,
   "metadata": {},
   "outputs": [
    {
     "data": {
      "text/html": [
       "<div>\n",
       "<style scoped>\n",
       "    .dataframe tbody tr th:only-of-type {\n",
       "        vertical-align: middle;\n",
       "    }\n",
       "\n",
       "    .dataframe tbody tr th {\n",
       "        vertical-align: top;\n",
       "    }\n",
       "\n",
       "    .dataframe thead th {\n",
       "        text-align: right;\n",
       "    }\n",
       "</style>\n",
       "<table border=\"1\" class=\"dataframe\">\n",
       "  <thead>\n",
       "    <tr style=\"text-align: right;\">\n",
       "      <th></th>\n",
       "      <th>x1</th>\n",
       "      <th>y1</th>\n",
       "      <th>z1</th>\n",
       "      <th>t1</th>\n",
       "      <th>x2</th>\n",
       "      <th>y2</th>\n",
       "      <th>z2</th>\n",
       "      <th>t2</th>\n",
       "      <th>label</th>\n",
       "    </tr>\n",
       "  </thead>\n",
       "  <tbody>\n",
       "    <tr>\n",
       "      <th>0</th>\n",
       "      <td>-16.064</td>\n",
       "      <td>-76.624</td>\n",
       "      <td>151.011</td>\n",
       "      <td>9225675.0</td>\n",
       "      <td>-93.854</td>\n",
       "      <td>29.775</td>\n",
       "      <td>65.459</td>\n",
       "      <td>9231711.0</td>\n",
       "      <td>0</td>\n",
       "    </tr>\n",
       "    <tr>\n",
       "      <th>1</th>\n",
       "      <td>-16.064</td>\n",
       "      <td>-76.624</td>\n",
       "      <td>151.011</td>\n",
       "      <td>9225675.0</td>\n",
       "      <td>-63.629</td>\n",
       "      <td>-23.757</td>\n",
       "      <td>94.341</td>\n",
       "      <td>9231763.0</td>\n",
       "      <td>0</td>\n",
       "    </tr>\n",
       "    <tr>\n",
       "      <th>2</th>\n",
       "      <td>-16.064</td>\n",
       "      <td>-76.624</td>\n",
       "      <td>151.011</td>\n",
       "      <td>9225675.0</td>\n",
       "      <td>-73.311</td>\n",
       "      <td>30.290</td>\n",
       "      <td>121.731</td>\n",
       "      <td>9228239.0</td>\n",
       "      <td>0</td>\n",
       "    </tr>\n",
       "    <tr>\n",
       "      <th>3</th>\n",
       "      <td>-16.064</td>\n",
       "      <td>-76.624</td>\n",
       "      <td>151.011</td>\n",
       "      <td>9225675.0</td>\n",
       "      <td>-47.798</td>\n",
       "      <td>12.654</td>\n",
       "      <td>37.731</td>\n",
       "      <td>9225394.0</td>\n",
       "      <td>0</td>\n",
       "    </tr>\n",
       "    <tr>\n",
       "      <th>4</th>\n",
       "      <td>-16.064</td>\n",
       "      <td>-76.624</td>\n",
       "      <td>151.011</td>\n",
       "      <td>9225675.0</td>\n",
       "      <td>58.991</td>\n",
       "      <td>31.948</td>\n",
       "      <td>37.841</td>\n",
       "      <td>9238638.0</td>\n",
       "      <td>0</td>\n",
       "    </tr>\n",
       "    <tr>\n",
       "      <th>...</th>\n",
       "      <td>...</td>\n",
       "      <td>...</td>\n",
       "      <td>...</td>\n",
       "      <td>...</td>\n",
       "      <td>...</td>\n",
       "      <td>...</td>\n",
       "      <td>...</td>\n",
       "      <td>...</td>\n",
       "      <td>...</td>\n",
       "    </tr>\n",
       "    <tr>\n",
       "      <th>359123</th>\n",
       "      <td>-93.950</td>\n",
       "      <td>29.716</td>\n",
       "      <td>160.131</td>\n",
       "      <td>9237828.0</td>\n",
       "      <td>39.623</td>\n",
       "      <td>103.299</td>\n",
       "      <td>55.800</td>\n",
       "      <td>9237695.0</td>\n",
       "      <td>0</td>\n",
       "    </tr>\n",
       "    <tr>\n",
       "      <th>359124</th>\n",
       "      <td>-93.950</td>\n",
       "      <td>29.716</td>\n",
       "      <td>160.131</td>\n",
       "      <td>9237828.0</td>\n",
       "      <td>-6.860</td>\n",
       "      <td>-57.851</td>\n",
       "      <td>37.841</td>\n",
       "      <td>9229671.0</td>\n",
       "      <td>0</td>\n",
       "    </tr>\n",
       "    <tr>\n",
       "      <th>359125</th>\n",
       "      <td>-73.486</td>\n",
       "      <td>30.199</td>\n",
       "      <td>139.889</td>\n",
       "      <td>9231970.0</td>\n",
       "      <td>39.623</td>\n",
       "      <td>103.299</td>\n",
       "      <td>55.800</td>\n",
       "      <td>9237695.0</td>\n",
       "      <td>0</td>\n",
       "    </tr>\n",
       "    <tr>\n",
       "      <th>359126</th>\n",
       "      <td>-73.486</td>\n",
       "      <td>30.199</td>\n",
       "      <td>139.889</td>\n",
       "      <td>9231970.0</td>\n",
       "      <td>-6.860</td>\n",
       "      <td>-57.851</td>\n",
       "      <td>37.841</td>\n",
       "      <td>9229671.0</td>\n",
       "      <td>0</td>\n",
       "    </tr>\n",
       "    <tr>\n",
       "      <th>359127</th>\n",
       "      <td>39.623</td>\n",
       "      <td>103.299</td>\n",
       "      <td>55.800</td>\n",
       "      <td>9237695.0</td>\n",
       "      <td>-6.860</td>\n",
       "      <td>-57.851</td>\n",
       "      <td>37.841</td>\n",
       "      <td>9229671.0</td>\n",
       "      <td>0</td>\n",
       "    </tr>\n",
       "  </tbody>\n",
       "</table>\n",
       "<p>359128 rows × 9 columns</p>\n",
       "</div>"
      ],
      "text/plain": [
       "            x1       y1       z1         t1      x2       y2       z2  \\\n",
       "0      -16.064  -76.624  151.011  9225675.0 -93.854   29.775   65.459   \n",
       "1      -16.064  -76.624  151.011  9225675.0 -63.629  -23.757   94.341   \n",
       "2      -16.064  -76.624  151.011  9225675.0 -73.311   30.290  121.731   \n",
       "3      -16.064  -76.624  151.011  9225675.0 -47.798   12.654   37.731   \n",
       "4      -16.064  -76.624  151.011  9225675.0  58.991   31.948   37.841   \n",
       "...        ...      ...      ...        ...     ...      ...      ...   \n",
       "359123 -93.950   29.716  160.131  9237828.0  39.623  103.299   55.800   \n",
       "359124 -93.950   29.716  160.131  9237828.0  -6.860  -57.851   37.841   \n",
       "359125 -73.486   30.199  139.889  9231970.0  39.623  103.299   55.800   \n",
       "359126 -73.486   30.199  139.889  9231970.0  -6.860  -57.851   37.841   \n",
       "359127  39.623  103.299   55.800  9237695.0  -6.860  -57.851   37.841   \n",
       "\n",
       "               t2  label  \n",
       "0       9231711.0      0  \n",
       "1       9231763.0      0  \n",
       "2       9228239.0      0  \n",
       "3       9225394.0      0  \n",
       "4       9238638.0      0  \n",
       "...           ...    ...  \n",
       "359123  9237695.0      0  \n",
       "359124  9229671.0      0  \n",
       "359125  9237695.0      0  \n",
       "359126  9229671.0      0  \n",
       "359127  9229671.0      0  \n",
       "\n",
       "[359128 rows x 9 columns]"
      ]
     },
     "execution_count": 17,
     "metadata": {},
     "output_type": "execute_result"
    }
   ],
   "source": [
    "headers = ['x1', 'y1', 'z1', 't1', 'x2', 'y2', 'z2', 't2', 'label']\n",
    "df = pd.read_csv(DATADIR+'/train/slice-615-0-1.csv',\n",
    "                 header=None,\n",
    "                names=headers)\n",
    "df"
   ]
  },
  {
   "cell_type": "code",
   "execution_count": 20,
   "metadata": {},
   "outputs": [
    {
     "data": {
      "text/plain": [
       "6905"
      ]
     },
     "execution_count": 20,
     "metadata": {},
     "output_type": "execute_result"
    }
   ],
   "source": [
    "related = df[df['label'] == 1]\n",
    "unrelated = df[df['label'] == 0]\n",
    "size = min(related.shape[0], unrelated.shape[0])"
   ]
  },
  {
   "cell_type": "code",
   "execution_count": 26,
   "metadata": {},
   "outputs": [],
   "source": [
    "df = pd.concat([related, unrelated.sample(size)])\n",
    "df = shuffle(df)\n",
    "df.to_csv(DATADIR+'/train/slice-615-0-1-equal.csv', index=False, header=False)"
   ]
  },
  {
   "cell_type": "code",
   "execution_count": 7,
   "metadata": {},
   "outputs": [
    {
     "name": "stdout",
     "output_type": "stream",
     "text": [
      "9253 4557\n"
     ]
    }
   ],
   "source": [
    "path = DATADIR+'/train/slice-615-0-1-equal.csv'\n",
    "train_dl, test_dl = model_utils.prepare_data(path)\n",
    "print(len(train_dl.dataset), len(test_dl.dataset))"
   ]
  },
  {
   "cell_type": "code",
   "execution_count": 8,
   "metadata": {},
   "outputs": [
    {
     "data": {
      "text/plain": [
       "MLP(\n",
       "  (hidden1): Linear(in_features=8, out_features=10, bias=True)\n",
       "  (act1): ReLU()\n",
       "  (hidden2): Linear(in_features=10, out_features=8, bias=True)\n",
       "  (act2): ReLU()\n",
       "  (hidden3): Linear(in_features=8, out_features=1, bias=True)\n",
       "  (act3): Sigmoid()\n",
       ")"
      ]
     },
     "execution_count": 8,
     "metadata": {},
     "output_type": "execute_result"
    }
   ],
   "source": [
    "net2 = MLP(8).to(device)\n",
    "net2"
   ]
  },
  {
   "cell_type": "code",
   "execution_count": 10,
   "metadata": {},
   "outputs": [],
   "source": [
    "optimizer = SGD(net.parameters(), lr=0.001, momentum=0.9)\n",
    "criterion = BCELoss()"
   ]
  },
  {
   "cell_type": "code",
   "execution_count": 11,
   "metadata": {},
   "outputs": [
    {
     "name": "stdout",
     "output_type": "stream",
     "text": [
      "Accuracy: 0.504\n"
     ]
    }
   ],
   "source": [
    "model_utils.train(train_dl, net, criterion, optimizer, epochs=5)\n",
    "acc = model_utils.test(test_dl, net)\n",
    "print(\"Accuracy: %.3f\" % acc.item())"
   ]
  },
  {
   "cell_type": "code",
   "execution_count": null,
   "metadata": {},
   "outputs": [],
   "source": []
  }
 ],
 "metadata": {
  "kernelspec": {
   "display_name": "venv",
   "language": "python",
   "name": "venv"
  },
  "language_info": {
   "codemirror_mode": {
    "name": "ipython",
    "version": 3
   },
   "file_extension": ".py",
   "mimetype": "text/x-python",
   "name": "python",
   "nbconvert_exporter": "python",
   "pygments_lexer": "ipython3",
   "version": "3.8.3"
  }
 },
 "nbformat": 4,
 "nbformat_minor": 2
}

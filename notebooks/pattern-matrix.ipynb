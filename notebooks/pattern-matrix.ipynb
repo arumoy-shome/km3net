{
 "cells": [
  {
   "cell_type": "markdown",
   "metadata": {},
   "source": [
    "# Pattern Matrix Replacement\n",
    "\n",
    "This this notebook we explore strategies to replace the ***Hit Correlation*** step of Konrad's pipeline, specifically the *patten matrix* algorithm previously used.\n",
    "\n",
    "## Approach\n",
    "I am thinking of two approaches. First, use a simple MLP to determine if two given points are *causally related* or not. To do this, the following tasks are required:\n",
    "- [x] prepare the data such that each row contains the features (x,y,z,time/timeslice) of each pair of points (exluding self)\n",
    "    - [ ] subtask here is to use PCA to reduce the dimensions and see if the network performs same/worse\n",
    "- [X] create labels for training set ie. *1* of related and *0* otherwise (this hinges upon the fact that we can extract labels from *mc_info* table)\n",
    "- [ ] visualize the results\n",
    "\n",
    "The other approach is to treat this as an unsupervised learning task and use clustering to determine *related* points."
   ]
  },
  {
   "cell_type": "markdown",
   "metadata": {},
   "source": [
    "# Creating the \"Pattern Matrix\" Dataset\n",
    "\n",
    "Since this step will essentially double the width of the dataset and square it's height, we will only use timeslice 665 (timeslice with the largest hits, as per the [exploration](notebooks/exploration.ipynb) conducted previously). The algorithm to generate the dataset is as follows:\n",
    "1. create an empty dataframe to hold the `result`\n",
    "2.iterate over original df with the row and index\n",
    "    1. duplicate original df\n",
    "    2. set value of `dup` columns to that of the row\n",
    "    3. concat dup and original dfs (sideways) to create pairs\n",
    "    4. drop the rows where `id1` is less than `id2` to avoid repeat pairs\n",
    "    5. append dup to result\n",
    "    \n",
    "The algorithm was tested with a small sample of 10 rows before the dataset below was created.\n",
    "\n",
    "## Generate labels\n",
    "\n",
    "Once we \"explode\" the dataset, we need to generate labels. The logic is simple, if `eid1` and `eid2` are same then give it a label of 1, else a label of 0. There are 3 possible combinations that can occur: 1. hit-hit 2. hit-noise and 3. noise-noise. Since noise has `nan` for the event ids and since in Python `nan != nan` all 3 cases can be correctly handled by a simple comparison of the two column values.\n",
    "\n",
    "Drop the columns that are not required for training, and write to csv."
   ]
  },
  {
   "cell_type": "markdown",
   "metadata": {},
   "source": [
    "# Alternative datasets\n",
    "\n",
    "- [x] train using the difference between x,y,z,t ***This produced better results***\n",
    "- [x] train using a larger sample (50%, 75%, 100% of slice-615) ***50% produced the best results***\n",
    "- [ ] train using sample from entire dataset, across timeslices"
   ]
  },
  {
   "cell_type": "markdown",
   "metadata": {},
   "source": [
    "# MLP for \"Pattern Matrix\" Replacement\n",
    "\n",
    "I followed this [tutorial](https://machinelearningmastery.com/pytorch-tutorial-develop-deep-learning-models/) to implement the first iteration of the network.\n",
    "\n",
    "## Summary of experiments\n",
    "The following parameters were constant across all experiments:\n",
    "\n",
    "|param|value|\n",
    "|:-:|:-:|\n",
    "|loss|BCELoss|\n",
    "|optimizer|SGD with lr=0.001, momentum=0.9|\n",
    "|model architecture| (inputs, 10), (10, 8)|\n",
    "|activation (hidden)|ReLu|\n",
    "|activation (output)|Sigmoid|\n",
    "\n",
    "Two parameters namely, the size of the training set and the number of epochs were varied in a grid search and the optimal values were identified (ie. the point where validation and training losses converge). The results are summarised below.\n",
    "\n",
    "|dataset|epochs|size (training)|accuracy|recall (related)|recall (unrelated)|\n",
    "|:-:|:-:|:-:|:-:|:-:|:-:|\n",
    "|train-slice-615-10-equal|10|9253|0.88|0.11|0.90|\n",
    "|train-slice-615-25-equal|10|42407|0.94|0.44|0.96|\n",
    "|train-slice-615-25-equal|25|42407|0.96|0.19|0.98|\n",
    "|train-slice-615-50-equal|10|193898|0.95|0.42|0.96|\n",
    "|train-slice-615-50-equal|5|193898|--|0.43|0.97|\n",
    "|train-slice-615-50-equal-diff|5|193898|0.93|0.76|0.93|\n",
    "|train-slice-615-50-equal-diff|2|193898|0.93|0.84|0.91|\n",
    "\n",
    "The best model is obtained by using dataset train-slice-615-50-equal-diff which contains equal number of examples for each target and uses the difference between the points as the feature columns.\n",
    "\n",
    "***NOTE the recall varies for each experiment due to random initialization of weights but in general it follows an error of +-5%.***"
   ]
  },
  {
   "cell_type": "markdown",
   "metadata": {},
   "source": [
    "## Experiment 1\n",
    "Use **scripts/train-slice-615-10-equal.csv** to generate the dataset.\n",
    "\n",
    "### Parameters\n",
    "- Data: 10% of slice 615 (equalized classes)\n",
    "- Loss: BCELoss\n",
    "- Optimizer: SGD(lr=0.001, momentum=0.9)\n",
    "- Layers: (8, 10), (10, 8)\n",
    "- Activation: hidden -> ReLu, output -> Sigmoid\n",
    "- Epochs: 10\n",
    "\n",
    "### Remarks\n",
    "The model is not able to classify the minority class well."
   ]
  },
  {
   "cell_type": "code",
   "execution_count": 1,
   "metadata": {},
   "outputs": [],
   "source": [
    "from context import km3net\n",
    "from km3net.utils import DATADIR\n",
    "import km3net.model.utils as model_utils\n",
    "import km3net.model.eval as model_eval\n",
    "import km3net.data.utils as data_utils\n",
    "import km3net.data.pattern_matrix as pm\n",
    "from km3net.model.mlp import MLP\n",
    "from torch.nn import BCELoss\n",
    "from torch.optim import SGD\n",
    "import torch\n",
    "import pandas as pd\n",
    "import matplotlib.pyplot as plt\n",
    "from sklearn.metrics import confusion_matrix, classification_report"
   ]
  },
  {
   "cell_type": "code",
   "execution_count": 2,
   "metadata": {},
   "outputs": [
    {
     "name": "stdout",
     "output_type": "stream",
     "text": [
      "train size: 9253, valid size: 4557, test size: 364231\n",
      "---\n",
      "epochs: 0, train loss: 0.040, valid loss: 0.037\n",
      "epochs: 5, train loss: 0.028, valid loss: 0.027\n",
      "---\n"
     ]
    }
   ],
   "source": [
    "train_path = DATADIR+'/train/slice-615-10-equal.csv'\n",
    "test_path = DATADIR+'/test/slice-1637-10.csv'\n",
    "train_dl, valid_dl = model_utils.prepare_train_data(train_path,normalise=True)\n",
    "test_dl = model_utils.prepare_test_data(test_path,normalise=True)\n",
    "print(\"train size: {0}, valid size: {1}, test size: {2}\".format(\n",
    "    len(train_dl.dataset),len(valid_dl.dataset), len(test_dl.dataset)))\n",
    "\n",
    "device = model_utils.get_device()\n",
    "model = MLP(8).to(device)\n",
    "\n",
    "params = {\n",
    "    'model': model,\n",
    "    'optimizer': SGD(model.parameters(), lr=0.001, momentum=0.9),\n",
    "    'criterion': BCELoss(),\n",
    "    'epochs': 10,\n",
    "    'train_dl': train_dl,\n",
    "    'valid_dl': valid_dl,\n",
    "    'test_dl': test_dl\n",
    "}\n",
    "\n",
    "results = model_utils.evaluate(**params)"
   ]
  },
  {
   "cell_type": "code",
   "execution_count": 3,
   "metadata": {},
   "outputs": [
    {
     "data": {
      "text/plain": [
       "<module 'matplotlib.pyplot' from '/home/ashome/.local/lib/python3.8/site-packages/matplotlib/pyplot.py'>"
      ]
     },
     "execution_count": 3,
     "metadata": {},
     "output_type": "execute_result"
    },
    {
     "data": {
      "image/png": "[encoded data removed]",
      "text/plain": [
       "<Figure size 432x288 with 1 Axes>"
      ]
     },
     "metadata": {
      "needs_background": "light"
     },
     "output_type": "display_data"
    },
    {
     "data": {
      "text/plain": [
       "<Figure size 576x576 with 0 Axes>"
      ]
     },
     "metadata": {},
     "output_type": "display_data"
    }
   ],
   "source": [
    "model_eval.plot_learning_curve(results['train_losses'],\n",
    "                                          results['valid_losses'])"
   ]
  },
  {
   "cell_type": "code",
   "execution_count": 4,
   "metadata": {},
   "outputs": [
    {
     "name": "stdout",
     "output_type": "stream",
     "text": [
      "Confusion matrix with normalization\n"
     ]
    },
    {
     "data": {
      "text/plain": [
       "<module 'matplotlib.pyplot' from '/home/ashome/.local/lib/python3.8/site-packages/matplotlib/pyplot.py'>"
      ]
     },
     "execution_count": 4,
     "metadata": {},
     "output_type": "execute_result"
    },
    {
     "data": {
      "image/png": "[encoded data removed]",
      "text/plain": [
       "<Figure size 432x288 with 2 Axes>"
      ]
     },
     "metadata": {
      "needs_background": "light"
     },
     "output_type": "display_data"
    },
    {
     "data": {
      "text/plain": [
       "<Figure size 576x576 with 0 Axes>"
      ]
     },
     "metadata": {},
     "output_type": "display_data"
    }
   ],
   "source": [
    "matrix = confusion_matrix(results['y_true'], results['y_pred'])\n",
    "model_eval.plot_confusion_matrix(matrix, classes=[0, 1], normalize=True)"
   ]
  },
  {
   "cell_type": "code",
   "execution_count": 5,
   "metadata": {},
   "outputs": [
    {
     "name": "stdout",
     "output_type": "stream",
     "text": [
      "              precision    recall  f1-score   support\n",
      "\n",
      "         0.0       0.98      0.90      0.94    355859\n",
      "         1.0       0.03      0.11      0.04      8372\n",
      "\n",
      "    accuracy                           0.88    364231\n",
      "   macro avg       0.50      0.51      0.49    364231\n",
      "weighted avg       0.96      0.88      0.91    364231\n",
      "\n"
     ]
    }
   ],
   "source": [
    "print(classification_report(results['y_true'], results['y_pred']))"
   ]
  },
  {
   "cell_type": "markdown",
   "metadata": {},
   "source": [
    "## Experiment 1.a\n",
    "Next, we increase the size of training set whilst keeping the parameters the same.\n",
    "\n",
    "### Parameters\n",
    "- Data: 25% of slice 615 (equalized classes)\n",
    "- Loss: BCELoss\n",
    "- Optimizer: SGD(lr=0.001, momentum=0.9)\n",
    "- Layers: (8, 10), (10, 8)\n",
    "- Activation: hidden -> ReLu, output -> Sigmoid\n",
    "- Epochs: 10\n",
    "\n",
    "### Remarks\n",
    "The loss functions are now stable and seem to converge, the recall for related hits also improves."
   ]
  },
  {
   "cell_type": "code",
   "execution_count": 6,
   "metadata": {},
   "outputs": [
    {
     "name": "stdout",
     "output_type": "stream",
     "text": [
      "train size: 42407, valid size: 20887, test size: 364231\n",
      "---\n",
      "epochs: 0, train loss: 0.039, valid loss: 0.033\n",
      "epochs: 5, train loss: 0.012, valid loss: 0.011\n",
      "---\n"
     ]
    }
   ],
   "source": [
    "train_path = DATADIR+'/train/slice-615-25-equal.csv'\n",
    "test_path = DATADIR+'/test/slice-1637-10.csv'\n",
    "train_dl, valid_dl = model_utils.prepare_train_data(train_path,normalise=True)\n",
    "test_dl = model_utils.prepare_test_data(test_path,normalise=True)\n",
    "print(\"train size: {0}, valid size: {1}, test size: {2}\".format(\n",
    "    len(train_dl.dataset),len(valid_dl.dataset), len(test_dl.dataset)))\n",
    "\n",
    "device = model_utils.get_device()\n",
    "model = MLP(8).to(device)\n",
    "\n",
    "params = {\n",
    "    'model': model,\n",
    "    'optimizer': SGD(model.parameters(), lr=0.001, momentum=0.9),\n",
    "    'criterion': BCELoss(),\n",
    "    'epochs': 10,\n",
    "    'train_dl': train_dl,\n",
    "    'valid_dl': valid_dl,\n",
    "    'test_dl': test_dl\n",
    "}\n",
    "\n",
    "results = model_utils.evaluate(**params)"
   ]
  },
  {
   "cell_type": "code",
   "execution_count": 7,
   "metadata": {},
   "outputs": [
    {
     "data": {
      "text/plain": [
       "<module 'matplotlib.pyplot' from '/home/ashome/.local/lib/python3.8/site-packages/matplotlib/pyplot.py'>"
      ]
     },
     "execution_count": 7,
     "metadata": {},
     "output_type": "execute_result"
    },
    {
     "data": {
      "image/png": "[encoded data removed]",
      "text/plain": [
       "<Figure size 432x288 with 1 Axes>"
      ]
     },
     "metadata": {
      "needs_background": "light"
     },
     "output_type": "display_data"
    },
    {
     "data": {
      "text/plain": [
       "<Figure size 576x576 with 0 Axes>"
      ]
     },
     "metadata": {},
     "output_type": "display_data"
    }
   ],
   "source": [
    "model_eval.plot_learning_curve(results['train_losses'],\n",
    "                                          results['valid_losses'])"
   ]
  },
  {
   "cell_type": "code",
   "execution_count": 8,
   "metadata": {},
   "outputs": [
    {
     "name": "stdout",
     "output_type": "stream",
     "text": [
      "Confusion matrix with normalization\n"
     ]
    },
    {
     "data": {
      "text/plain": [
       "<module 'matplotlib.pyplot' from '/home/ashome/.local/lib/python3.8/site-packages/matplotlib/pyplot.py'>"
      ]
     },
     "execution_count": 8,
     "metadata": {},
     "output_type": "execute_result"
    },
    {
     "data": {
      "image/png": "[encoded data removed]",
      "text/plain": [
       "<Figure size 432x288 with 2 Axes>"
      ]
     },
     "metadata": {
      "needs_background": "light"
     },
     "output_type": "display_data"
    },
    {
     "data": {
      "text/plain": [
       "<Figure size 576x576 with 0 Axes>"
      ]
     },
     "metadata": {},
     "output_type": "display_data"
    }
   ],
   "source": [
    "matrix = confusion_matrix(results['y_true'], results['y_pred'])\n",
    "model_eval.plot_confusion_matrix(matrix, classes=[0, 1], normalize=True)"
   ]
  },
  {
   "cell_type": "code",
   "execution_count": 9,
   "metadata": {},
   "outputs": [
    {
     "name": "stdout",
     "output_type": "stream",
     "text": [
      "              precision    recall  f1-score   support\n",
      "\n",
      "         0.0       0.99      0.96      0.97    355859\n",
      "         1.0       0.19      0.44      0.26      8372\n",
      "\n",
      "    accuracy                           0.94    364231\n",
      "   macro avg       0.59      0.70      0.62    364231\n",
      "weighted avg       0.97      0.94      0.95    364231\n",
      "\n"
     ]
    }
   ],
   "source": [
    "print(classification_report(results['y_true'], results['y_pred']))"
   ]
  },
  {
   "cell_type": "markdown",
   "metadata": {},
   "source": [
    "## Experiment 1.a.1\n",
    "As an alternate path, we try increasing the training epochs to see if it helps the model.\n",
    "\n",
    "### Remarks\n",
    "Recall for related hits **decreases**, we can try with 12 epochs, but 10 seems to be a good number for this dataset. Also note that increasing the training size might require reducing the epochs for better results."
   ]
  },
  {
   "cell_type": "code",
   "execution_count": null,
   "metadata": {},
   "outputs": [],
   "source": [
    "train_path = DATADIR+'/train/slice-615-25-equal.csv'\n",
    "test_path = DATADIR+'/test/slice-1637-10.csv'\n",
    "train_dl, valid_dl = model_utils.prepare_train_data(train_path,normalise=True)\n",
    "test_dl = model_utils.prepare_test_data(test_path,normalise=True)\n",
    "print(\"train size: {0}, valid size: {1}, test size: {2}\".format(\n",
    "    len(train_dl.dataset),len(valid_dl.dataset), len(test_dl.dataset)))\n",
    "\n",
    "device = model_utils.get_device()\n",
    "model = MLP(8).to(device)\n",
    "\n",
    "params = {\n",
    "    'model': model,\n",
    "    'optimizer': SGD(model.parameters(), lr=0.001, momentum=0.9),\n",
    "    'criterion': BCELoss(),\n",
    "    'epochs': 25,\n",
    "    'train_dl': train_dl,\n",
    "    'valid_dl': valid_dl,\n",
    "    'test_dl': test_dl\n",
    "}\n",
    "\n",
    "results = model_utils.evaluate(**params)"
   ]
  },
  {
   "cell_type": "code",
   "execution_count": null,
   "metadata": {},
   "outputs": [],
   "source": [
    "model_eval.plot_learning_curve(results['train_losses'],\n",
    "                                          results['valid_losses'])"
   ]
  },
  {
   "cell_type": "code",
   "execution_count": null,
   "metadata": {},
   "outputs": [],
   "source": [
    "matrix = confusion_matrix(results['y_true'], results['y_pred'])\n",
    "model_eval.plot_confusion_matrix(matrix, classes=[0, 1], normalize=True)"
   ]
  },
  {
   "cell_type": "code",
   "execution_count": 5,
   "metadata": {},
   "outputs": [
    {
     "name": "stdout",
     "output_type": "stream",
     "text": [
      "              precision    recall  f1-score   support\n",
      "\n",
      "         0.0       0.98      0.98      0.98    355859\n",
      "         1.0       0.21      0.19      0.20      8372\n",
      "\n",
      "    accuracy                           0.96    364231\n",
      "   macro avg       0.59      0.59      0.59    364231\n",
      "weighted avg       0.96      0.96      0.96    364231\n",
      "\n"
     ]
    }
   ],
   "source": [
    "print(classification_report(results['y_true'], results['y_pred']))"
   ]
  },
  {
   "cell_type": "markdown",
   "metadata": {},
   "source": [
    "## Experiment 1.b\n",
    "Increase the size of training set to 50% of slice-615 whilst keeping the parameters the same.\n",
    "\n",
    "### Parameters\n",
    "- Data: 50% of slice 615 (equalized classes)\n",
    "- Loss: BCELoss\n",
    "- Optimizer: SGD(lr=0.001, momentum=0.9)\n",
    "- Layers: (8, 10), (10, 8)\n",
    "- Activation: hidden -> ReLu, output -> Sigmoid\n",
    "- Epochs: 10\n",
    "\n",
    "### Remarks\n",
    "The loss functions converge way before 10 epochs, and the recall for related hits is similar to exp.2, we can try early stopping."
   ]
  },
  {
   "cell_type": "code",
   "execution_count": 2,
   "metadata": {},
   "outputs": [
    {
     "name": "stdout",
     "output_type": "stream",
     "text": [
      "train size: 193898, valid size: 95502, test size: 364231\n",
      "---\n",
      "epochs: 0, train loss: 0.023, valid loss: 0.012\n",
      "epochs: 5, train loss: 0.007, valid loss: 0.007\n",
      "---\n"
     ]
    }
   ],
   "source": [
    "train_path = DATADIR+'/train/slice-615-50-equal.csv'\n",
    "test_path = DATADIR+'/test/slice-1637-10.csv'\n",
    "train_dl, valid_dl = model_utils.prepare_train_data(train_path,normalise=True)\n",
    "test_dl = model_utils.prepare_test_data(test_path,normalise=True)\n",
    "print(\"train size: {0}, valid size: {1}, test size: {2}\".format(\n",
    "    len(train_dl.dataset),len(valid_dl.dataset), len(test_dl.dataset)))\n",
    "\n",
    "device = model_utils.get_device()\n",
    "model = MLP(8).to(device)\n",
    "\n",
    "params = {\n",
    "    'model': model,\n",
    "    'optimizer': SGD(model.parameters(), lr=0.001, momentum=0.9),\n",
    "    'criterion': BCELoss(),\n",
    "    'epochs': 10,\n",
    "    'train_dl': train_dl,\n",
    "    'valid_dl': valid_dl,\n",
    "    'test_dl': test_dl\n",
    "}\n",
    "\n",
    "results = model_utils.evaluate(**params)"
   ]
  },
  {
   "cell_type": "code",
   "execution_count": 3,
   "metadata": {},
   "outputs": [
    {
     "data": {
      "text/plain": [
       "<module 'matplotlib.pyplot' from '/home/ashome/.local/lib/python3.8/site-packages/matplotlib/pyplot.py'>"
      ]
     },
     "execution_count": 3,
     "metadata": {},
     "output_type": "execute_result"
    },
    {
     "data": {
      "image/png": "[encoded data removed]",
      "text/plain": [
       "<Figure size 432x288 with 1 Axes>"
      ]
     },
     "metadata": {
      "needs_background": "light"
     },
     "output_type": "display_data"
    },
    {
     "data": {
      "text/plain": [
       "<Figure size 576x576 with 0 Axes>"
      ]
     },
     "metadata": {},
     "output_type": "display_data"
    }
   ],
   "source": [
    "model_eval.plot_learning_curve(results['train_losses'],\n",
    "                                          results['valid_losses'])"
   ]
  },
  {
   "cell_type": "code",
   "execution_count": 4,
   "metadata": {},
   "outputs": [
    {
     "name": "stdout",
     "output_type": "stream",
     "text": [
      "Confusion matrix with normalization\n"
     ]
    },
    {
     "data": {
      "text/plain": [
       "<module 'matplotlib.pyplot' from '/home/ashome/.local/lib/python3.8/site-packages/matplotlib/pyplot.py'>"
      ]
     },
     "execution_count": 4,
     "metadata": {},
     "output_type": "execute_result"
    },
    {
     "data": {
      "image/png": "[encoded data removed]",
      "text/plain": [
       "<Figure size 432x288 with 2 Axes>"
      ]
     },
     "metadata": {
      "needs_background": "light"
     },
     "output_type": "display_data"
    },
    {
     "data": {
      "text/plain": [
       "<Figure size 576x576 with 0 Axes>"
      ]
     },
     "metadata": {},
     "output_type": "display_data"
    }
   ],
   "source": [
    "matrix = confusion_matrix(results['y_true'], results['y_pred'])\n",
    "model_eval.plot_confusion_matrix(matrix, classes=[0, 1], normalize=True)"
   ]
  },
  {
   "cell_type": "code",
   "execution_count": 5,
   "metadata": {},
   "outputs": [
    {
     "name": "stdout",
     "output_type": "stream",
     "text": [
      "              precision    recall  f1-score   support\n",
      "\n",
      "         0.0       0.99      0.96      0.97    355859\n",
      "         1.0       0.20      0.42      0.27      8372\n",
      "\n",
      "    accuracy                           0.95    364231\n",
      "   macro avg       0.59      0.69      0.62    364231\n",
      "weighted avg       0.97      0.95      0.96    364231\n",
      "\n"
     ]
    }
   ],
   "source": [
    "print(classification_report(results['y_true'], results['y_pred']))"
   ]
  },
  {
   "cell_type": "markdown",
   "metadata": {},
   "source": [
    "## Experiment 1.b.1\n",
    "With the increased training data, we do not need 10 epochs, from the learning curve of exp.3 we see that 5 seems to be a good place to stop.\n",
    "\n",
    "### Parameters\n",
    "- Data: 50% of slice 615 (equalized classes)\n",
    "- Loss: BCELoss\n",
    "- Optimizer: SGD(lr=0.001, momentum=0.9)\n",
    "- Layers: (8, 10), (10, 8)\n",
    "- Activation: hidden -> ReLu, output -> Sigmoid\n",
    "- Epochs: 5\n",
    "\n",
    "### Remarks\n",
    "From the learning curve it seems we can stop 1-2 epochs earlier but that may/may not result in any significant performance gain. It seems for the given parameters and model architecture we have acheived the best we can. Next, we try feature engineering."
   ]
  },
  {
   "cell_type": "code",
   "execution_count": 6,
   "metadata": {},
   "outputs": [
    {
     "name": "stdout",
     "output_type": "stream",
     "text": [
      "train size: 193898, valid size: 95502, test size: 364231\n",
      "---\n",
      "epochs: 0, train loss: 0.027, valid loss: 0.020\n",
      "---\n"
     ]
    }
   ],
   "source": [
    "train_path = DATADIR+'/train/slice-615-50-equal.csv'\n",
    "test_path = DATADIR+'/test/slice-1637-10.csv'\n",
    "train_dl, valid_dl = model_utils.prepare_train_data(train_path,normalise=True)\n",
    "test_dl = model_utils.prepare_test_data(test_path,normalise=True)\n",
    "print(\"train size: {0}, valid size: {1}, test size: {2}\".format(\n",
    "    len(train_dl.dataset),len(valid_dl.dataset), len(test_dl.dataset)))\n",
    "\n",
    "device = model_utils.get_device()\n",
    "model = MLP(8).to(device)\n",
    "\n",
    "params = {\n",
    "    'model': model,\n",
    "    'optimizer': SGD(model.parameters(), lr=0.001, momentum=0.9),\n",
    "    'criterion': BCELoss(),\n",
    "    'epochs': 5,\n",
    "    'train_dl': train_dl,\n",
    "    'valid_dl': valid_dl,\n",
    "    'test_dl': test_dl\n",
    "}\n",
    "\n",
    "results = model_utils.evaluate(**params)"
   ]
  },
  {
   "cell_type": "code",
   "execution_count": 7,
   "metadata": {},
   "outputs": [
    {
     "data": {
      "text/plain": [
       "<module 'matplotlib.pyplot' from '/home/ashome/.local/lib/python3.8/site-packages/matplotlib/pyplot.py'>"
      ]
     },
     "execution_count": 7,
     "metadata": {},
     "output_type": "execute_result"
    },
    {
     "data": {
      "image/png": "[encoded data removed]",
      "text/plain": [
       "<Figure size 432x288 with 1 Axes>"
      ]
     },
     "metadata": {
      "needs_background": "light"
     },
     "output_type": "display_data"
    },
    {
     "data": {
      "text/plain": [
       "<Figure size 576x576 with 0 Axes>"
      ]
     },
     "metadata": {},
     "output_type": "display_data"
    }
   ],
   "source": [
    "model_eval.plot_learning_curve(results['train_losses'],\n",
    "                                          results['valid_losses'])"
   ]
  },
  {
   "cell_type": "code",
   "execution_count": 8,
   "metadata": {},
   "outputs": [
    {
     "name": "stdout",
     "output_type": "stream",
     "text": [
      "Confusion matrix with normalization\n"
     ]
    },
    {
     "data": {
      "text/plain": [
       "<module 'matplotlib.pyplot' from '/home/ashome/.local/lib/python3.8/site-packages/matplotlib/pyplot.py'>"
      ]
     },
     "execution_count": 8,
     "metadata": {},
     "output_type": "execute_result"
    },
    {
     "data": {
      "image/png": "[encoded data removed]",
      "text/plain": [
       "<Figure size 432x288 with 2 Axes>"
      ]
     },
     "metadata": {
      "needs_background": "light"
     },
     "output_type": "display_data"
    },
    {
     "data": {
      "text/plain": [
       "<Figure size 576x576 with 0 Axes>"
      ]
     },
     "metadata": {},
     "output_type": "display_data"
    }
   ],
   "source": [
    "matrix = confusion_matrix(results['y_true'], results['y_pred'])\n",
    "model_eval.plot_confusion_matrix(matrix, classes=[0, 1], normalize=True)"
   ]
  },
  {
   "cell_type": "code",
   "execution_count": 5,
   "metadata": {},
   "outputs": [
    {
     "name": "stdout",
     "output_type": "stream",
     "text": [
      "              precision    recall  f1-score   support\n",
      "\n",
      "         0.0       0.99      0.96      0.97    355859\n",
      "         1.0       0.20      0.42      0.27      8372\n",
      "\n",
      "    accuracy                           0.95    364231\n",
      "   macro avg       0.59      0.69      0.62    364231\n",
      "weighted avg       0.97      0.95      0.96    364231\n",
      "\n"
     ]
    }
   ],
   "source": [
    "print(classification_report(results['y_true'], results['y_pred']))"
   ]
  },
  {
   "cell_type": "markdown",
   "metadata": {},
   "source": [
    "## Experiment 2\n",
    "We train the existing model with slice-615-50-equal-diff.csv which contains the difference of the points.\n",
    "\n",
    "### Parameters\n",
    "- Data: 50% of slice 615 (equalized classes, diff)\n",
    "- Loss: BCELoss\n",
    "- Optimizer: SGD(lr=0.001, momentum=0.9)\n",
    "- Layers: (4, 10), (10, 8)\n",
    "- Activation: hidden -> ReLu, output -> Sigmoid\n",
    "- Epochs: 5\n",
    "\n",
    "### Remarks\n",
    "The recall for related hits increases! From the learning curve it seems we can stop training even early."
   ]
  },
  {
   "cell_type": "code",
   "execution_count": 29,
   "metadata": {},
   "outputs": [
    {
     "name": "stdout",
     "output_type": "stream",
     "text": [
      "train size: 193898, valid size: 95502, test size: 364231\n",
      "---\n",
      "epochs: 0, train loss: 0.026, valid loss: 0.013\n",
      "---\n"
     ]
    }
   ],
   "source": [
    "train_path = DATADIR+'/train/slice-615-50-equal-diff.csv'\n",
    "test_path = DATADIR+'/test/slice-1637-10-diff.csv'\n",
    "train_dl, valid_dl = model_utils.prepare_train_data(train_path,normalise=True)\n",
    "test_dl = model_utils.prepare_test_data(test_path,normalise=True)\n",
    "print(\"train size: {0}, valid size: {1}, test size: {2}\".format(\n",
    "    len(train_dl.dataset),len(valid_dl.dataset), len(test_dl.dataset)))\n",
    "\n",
    "device = model_utils.get_device()\n",
    "model = MLP(4).to(device)\n",
    "\n",
    "params = {\n",
    "    'model': model,\n",
    "    'optimizer': SGD(model.parameters(), lr=0.001, momentum=0.9),\n",
    "    'criterion': BCELoss(),\n",
    "    'epochs': 5,\n",
    "    'train_dl': train_dl,\n",
    "    'valid_dl': valid_dl,\n",
    "    'test_dl': test_dl\n",
    "}\n",
    "\n",
    "results = model_utils.evaluate(**params)"
   ]
  },
  {
   "cell_type": "code",
   "execution_count": 30,
   "metadata": {},
   "outputs": [
    {
     "data": {
      "text/plain": [
       "<module 'matplotlib.pyplot' from '/home/ashome/.local/lib/python3.8/site-packages/matplotlib/pyplot.py'>"
      ]
     },
     "execution_count": 30,
     "metadata": {},
     "output_type": "execute_result"
    },
    {
     "data": {
      "image/png": "[encoded data removed]",
      "text/plain": [
       "<Figure size 432x288 with 1 Axes>"
      ]
     },
     "metadata": {
      "needs_background": "light"
     },
     "output_type": "display_data"
    },
    {
     "data": {
      "text/plain": [
       "<Figure size 576x576 with 0 Axes>"
      ]
     },
     "metadata": {},
     "output_type": "display_data"
    }
   ],
   "source": [
    "model_eval.plot_learning_curve(results['train_losses'],\n",
    "                                          results['valid_losses'])"
   ]
  },
  {
   "cell_type": "code",
   "execution_count": 31,
   "metadata": {},
   "outputs": [
    {
     "name": "stdout",
     "output_type": "stream",
     "text": [
      "Confusion matrix with normalization\n"
     ]
    },
    {
     "data": {
      "text/plain": [
       "<module 'matplotlib.pyplot' from '/home/ashome/.local/lib/python3.8/site-packages/matplotlib/pyplot.py'>"
      ]
     },
     "execution_count": 31,
     "metadata": {},
     "output_type": "execute_result"
    },
    {
     "data": {
      "image/png": "[encoded data removed]",
      "text/plain": [
       "<Figure size 432x288 with 2 Axes>"
      ]
     },
     "metadata": {
      "needs_background": "light"
     },
     "output_type": "display_data"
    },
    {
     "data": {
      "text/plain": [
       "<Figure size 576x576 with 0 Axes>"
      ]
     },
     "metadata": {},
     "output_type": "display_data"
    }
   ],
   "source": [
    "matrix = confusion_matrix(results['y_true'], results['y_pred'])\n",
    "model_eval.plot_confusion_matrix(matrix, classes=[0, 1], normalize=True)"
   ]
  },
  {
   "cell_type": "code",
   "execution_count": 32,
   "metadata": {},
   "outputs": [
    {
     "name": "stdout",
     "output_type": "stream",
     "text": [
      "              precision    recall  f1-score   support\n",
      "\n",
      "         0.0       0.99      0.93      0.96    355859\n",
      "         1.0       0.21      0.76      0.32      8372\n",
      "\n",
      "    accuracy                           0.93    364231\n",
      "   macro avg       0.60      0.85      0.64    364231\n",
      "weighted avg       0.98      0.93      0.95    364231\n",
      "\n"
     ]
    }
   ],
   "source": [
    "print(classification_report(results['y_true'], results['y_pred']))"
   ]
  },
  {
   "cell_type": "markdown",
   "metadata": {},
   "source": [
    "## Experiment 2.a\n",
    "Stop training at 2 epochs\n",
    "\n",
    "### Parameters\n",
    "- Data: 50% of slice 615 (equalized classes, diff)\n",
    "- Loss: BCELoss\n",
    "- Optimizer: SGD(lr=0.001, momentum=0.9)\n",
    "- Layers: (4, 10), (10, 8)\n",
    "- Activation: hidden -> ReLu, output -> Sigmoid\n",
    "- Epochs: 2\n",
    "\n",
    "### Remarks\n",
    "Recall for related hits increases! We can try to reduce the data first and see if we can still acheive the same results."
   ]
  },
  {
   "cell_type": "code",
   "execution_count": 67,
   "metadata": {},
   "outputs": [
    {
     "name": "stdout",
     "output_type": "stream",
     "text": [
      "train size: 193898, valid size: 95502, test size: 364231\n",
      "---\n",
      "epochs: 0, train loss: 0.033, valid loss: 0.017\n",
      "---\n"
     ]
    }
   ],
   "source": [
    "train_path = DATADIR+'/train/slice-615-50-equal-diff.csv'\n",
    "test_path = DATADIR+'/test/slice-1637-10-diff.csv'\n",
    "train_dl, valid_dl = model_utils.prepare_train_data(train_path,normalise=True)\n",
    "test_dl = model_utils.prepare_test_data(test_path,normalise=True)\n",
    "print(\"train size: {0}, valid size: {1}, test size: {2}\".format(\n",
    "    len(train_dl.dataset),len(valid_dl.dataset), len(test_dl.dataset)))\n",
    "\n",
    "device = model_utils.get_device()\n",
    "model = MLP(4).to(device)\n",
    "\n",
    "params = {\n",
    "    'model': model,\n",
    "    'optimizer': SGD(model.parameters(), lr=0.001, momentum=0.9),\n",
    "    'criterion': BCELoss(),\n",
    "    'epochs': 3,\n",
    "    'train_dl': train_dl,\n",
    "    'valid_dl': valid_dl,\n",
    "    'test_dl': test_dl\n",
    "}\n",
    "\n",
    "results = model_utils.evaluate(**params)"
   ]
  },
  {
   "cell_type": "code",
   "execution_count": 68,
   "metadata": {},
   "outputs": [
    {
     "data": {
      "text/plain": [
       "<module 'matplotlib.pyplot' from '/home/ashome/.local/lib/python3.8/site-packages/matplotlib/pyplot.py'>"
      ]
     },
     "execution_count": 68,
     "metadata": {},
     "output_type": "execute_result"
    },
    {
     "data": {
      "image/png": "[encoded data removed]",
      "text/plain": [
       "<Figure size 432x288 with 1 Axes>"
      ]
     },
     "metadata": {
      "needs_background": "light"
     },
     "output_type": "display_data"
    },
    {
     "data": {
      "text/plain": [
       "<Figure size 576x576 with 0 Axes>"
      ]
     },
     "metadata": {},
     "output_type": "display_data"
    }
   ],
   "source": [
    "model_eval.plot_learning_curve(results['train_losses'],\n",
    "                                          results['valid_losses'])"
   ]
  },
  {
   "cell_type": "code",
   "execution_count": 69,
   "metadata": {},
   "outputs": [
    {
     "name": "stdout",
     "output_type": "stream",
     "text": [
      "Confusion matrix with normalization\n"
     ]
    },
    {
     "data": {
      "text/plain": [
       "<module 'matplotlib.pyplot' from '/home/ashome/.local/lib/python3.8/site-packages/matplotlib/pyplot.py'>"
      ]
     },
     "execution_count": 69,
     "metadata": {},
     "output_type": "execute_result"
    },
    {
     "data": {
      "image/png": "[encoded data removed]",
      "text/plain": [
       "<Figure size 432x288 with 2 Axes>"
      ]
     },
     "metadata": {
      "needs_background": "light"
     },
     "output_type": "display_data"
    },
    {
     "data": {
      "text/plain": [
       "<Figure size 576x576 with 0 Axes>"
      ]
     },
     "metadata": {},
     "output_type": "display_data"
    }
   ],
   "source": [
    "matrix = confusion_matrix(results['y_true'], results['y_pred'])\n",
    "model_eval.plot_confusion_matrix(matrix, classes=[0, 1], normalize=True)"
   ]
  },
  {
   "cell_type": "code",
   "execution_count": 70,
   "metadata": {},
   "outputs": [
    {
     "name": "stdout",
     "output_type": "stream",
     "text": [
      "              precision    recall  f1-score   support\n",
      "\n",
      "         0.0       0.99      0.93      0.96    355859\n",
      "         1.0       0.20      0.72      0.31      8372\n",
      "\n",
      "    accuracy                           0.93    364231\n",
      "   macro avg       0.59      0.82      0.63    364231\n",
      "weighted avg       0.97      0.93      0.95    364231\n",
      "\n"
     ]
    }
   ],
   "source": [
    "print(classification_report(results['y_true'], results['y_pred']))"
   ]
  },
  {
   "cell_type": "markdown",
   "metadata": {},
   "source": [
    "## Experiment 2.a.1\n",
    "Reduce training data to 25% of slice 615, epochs varied to find best model.\n",
    "\n",
    "### Parameters\n",
    "- Data: 25% of slice 615 (equalized classes, diff)\n",
    "- Loss: BCELoss\n",
    "- Optimizer: SGD(lr=0.001, momentum=0.9)\n",
    "- Layers: (4, 10), (10, 8)\n",
    "- Activation: hidden -> ReLu, output -> Sigmoid\n",
    "- Epochs: 2, 5, 6, 10\n",
    "\n",
    "### Remarks\n",
    "|epochs|recall related(1)| recall unrelated(0)|\n",
    "|:-:|:-:|:-:|\n",
    "|2|higher|lower|\n",
    "|3|higher|lower|\n",
    "|5|lower|higher|\n",
    "\n",
    "The model is a bit unreliable and does not acheive consistent accuracies, it does not beat the performance of the model from exp.2.a."
   ]
  },
  {
   "cell_type": "code",
   "execution_count": 58,
   "metadata": {},
   "outputs": [
    {
     "name": "stdout",
     "output_type": "stream",
     "text": [
      "train size: 42407, valid size: 20887, test size: 364231\n",
      "---\n",
      "epochs: 0, train loss: 0.043, valid loss: 0.042\n",
      "---\n"
     ]
    }
   ],
   "source": [
    "train_path = DATADIR+'/train/slice-615-25-equal-diff.csv'\n",
    "test_path = DATADIR+'/test/slice-1637-10-diff.csv'\n",
    "train_dl, valid_dl = model_utils.prepare_train_data(train_path,normalise=True)\n",
    "test_dl = model_utils.prepare_test_data(test_path,normalise=True)\n",
    "print(\"train size: {0}, valid size: {1}, test size: {2}\".format(\n",
    "    len(train_dl.dataset),len(valid_dl.dataset), len(test_dl.dataset)))\n",
    "\n",
    "device = model_utils.get_device()\n",
    "model = MLP(4).to(device)\n",
    "\n",
    "params = {\n",
    "    'model': model,\n",
    "    'optimizer': SGD(model.parameters(), lr=0.001, momentum=0.9),\n",
    "    'criterion': BCELoss(),\n",
    "    'epochs': 3,\n",
    "    'train_dl': train_dl,\n",
    "    'valid_dl': valid_dl,\n",
    "    'test_dl': test_dl\n",
    "}\n",
    "\n",
    "results = model_utils.evaluate(**params)"
   ]
  },
  {
   "cell_type": "code",
   "execution_count": 59,
   "metadata": {},
   "outputs": [
    {
     "data": {
      "text/plain": [
       "<module 'matplotlib.pyplot' from '/home/ashome/.local/lib/python3.8/site-packages/matplotlib/pyplot.py'>"
      ]
     },
     "execution_count": 59,
     "metadata": {},
     "output_type": "execute_result"
    },
    {
     "data": {
      "image/png": "[encoded data removed]",
      "text/plain": [
       "<Figure size 432x288 with 1 Axes>"
      ]
     },
     "metadata": {
      "needs_background": "light"
     },
     "output_type": "display_data"
    },
    {
     "data": {
      "text/plain": [
       "<Figure size 576x576 with 0 Axes>"
      ]
     },
     "metadata": {},
     "output_type": "display_data"
    }
   ],
   "source": [
    "model_eval.plot_learning_curve(results['train_losses'],\n",
    "                                          results['valid_losses'])"
   ]
  },
  {
   "cell_type": "code",
   "execution_count": 60,
   "metadata": {},
   "outputs": [
    {
     "name": "stdout",
     "output_type": "stream",
     "text": [
      "Confusion matrix with normalization\n"
     ]
    },
    {
     "data": {
      "text/plain": [
       "<module 'matplotlib.pyplot' from '/home/ashome/.local/lib/python3.8/site-packages/matplotlib/pyplot.py'>"
      ]
     },
     "execution_count": 60,
     "metadata": {},
     "output_type": "execute_result"
    },
    {
     "data": {
      "image/png": "[encoded data removed]",
      "text/plain": [
       "<Figure size 432x288 with 2 Axes>"
      ]
     },
     "metadata": {
      "needs_background": "light"
     },
     "output_type": "display_data"
    },
    {
     "data": {
      "text/plain": [
       "<Figure size 576x576 with 0 Axes>"
      ]
     },
     "metadata": {},
     "output_type": "display_data"
    }
   ],
   "source": [
    "matrix = confusion_matrix(results['y_true'], results['y_pred'])\n",
    "model_eval.plot_confusion_matrix(matrix, classes=[0, 1], normalize=True)"
   ]
  },
  {
   "cell_type": "code",
   "execution_count": 42,
   "metadata": {},
   "outputs": [
    {
     "name": "stdout",
     "output_type": "stream",
     "text": [
      "              precision    recall  f1-score   support\n",
      "\n",
      "         0.0       0.99      0.70      0.82    355859\n",
      "         1.0       0.06      0.80      0.11      8372\n",
      "\n",
      "    accuracy                           0.70    364231\n",
      "   macro avg       0.53      0.75      0.47    364231\n",
      "weighted avg       0.97      0.70      0.81    364231\n",
      "\n"
     ]
    }
   ],
   "source": [
    "print(classification_report(results['y_true'], results['y_pred']))"
   ]
  },
  {
   "cell_type": "markdown",
   "metadata": {},
   "source": [
    "## Experiment 2.a.2\n",
    "Increase training data to 75% of slice 615, epochs varied to find best model.\n",
    "\n",
    "### Parameters\n",
    "- Data: 75% of slice 615 (equalized classes, diff)\n",
    "- Loss: BCELoss\n",
    "- Optimizer: SGD(lr=0.001, momentum=0.9)\n",
    "- Layers: (4, 10), (10, 8)\n",
    "- Activation: hidden -> ReLu, output -> Sigmoid\n",
    "- Epochs: 2\n",
    "\n",
    "### Remarks\n",
    "TODO"
   ]
  },
  {
   "cell_type": "code",
   "execution_count": 64,
   "metadata": {},
   "outputs": [
    {
     "name": "stdout",
     "output_type": "stream",
     "text": [
      "train size: 407162, valid size: 200542, test size: 364231\n",
      "---\n",
      "epochs: 0, train loss: 0.019, valid loss: 0.010\n",
      "---\n"
     ]
    }
   ],
   "source": [
    "train_path = DATADIR+'/train/slice-615-75-equal-diff.csv'\n",
    "test_path = DATADIR+'/test/slice-1637-10-diff.csv'\n",
    "train_dl, valid_dl = model_utils.prepare_train_data(train_path,normalise=True)\n",
    "test_dl = model_utils.prepare_test_data(test_path,normalise=True)\n",
    "print(\"train size: {0}, valid size: {1}, test size: {2}\".format(\n",
    "    len(train_dl.dataset),len(valid_dl.dataset), len(test_dl.dataset)))\n",
    "\n",
    "device = model_utils.get_device()\n",
    "model = MLP(4).to(device)\n",
    "\n",
    "params = {\n",
    "    'model': model,\n",
    "    'optimizer': SGD(model.parameters(), lr=0.001, momentum=0.9),\n",
    "    'criterion': BCELoss(),\n",
    "    'epochs': 1,\n",
    "    'train_dl': train_dl,\n",
    "    'valid_dl': valid_dl,\n",
    "    'test_dl': test_dl\n",
    "}\n",
    "\n",
    "results = model_utils.evaluate(**params)"
   ]
  },
  {
   "cell_type": "code",
   "execution_count": 65,
   "metadata": {},
   "outputs": [
    {
     "data": {
      "text/plain": [
       "<module 'matplotlib.pyplot' from '/home/ashome/.local/lib/python3.8/site-packages/matplotlib/pyplot.py'>"
      ]
     },
     "execution_count": 65,
     "metadata": {},
     "output_type": "execute_result"
    },
    {
     "data": {
      "image/png": "[encoded data removed]",
      "text/plain": [
       "<Figure size 432x288 with 1 Axes>"
      ]
     },
     "metadata": {
      "needs_background": "light"
     },
     "output_type": "display_data"
    },
    {
     "data": {
      "text/plain": [
       "<Figure size 576x576 with 0 Axes>"
      ]
     },
     "metadata": {},
     "output_type": "display_data"
    }
   ],
   "source": [
    "model_eval.plot_learning_curve(results['train_losses'],\n",
    "                                          results['valid_losses'])"
   ]
  },
  {
   "cell_type": "code",
   "execution_count": 66,
   "metadata": {},
   "outputs": [
    {
     "name": "stdout",
     "output_type": "stream",
     "text": [
      "Confusion matrix with normalization\n"
     ]
    },
    {
     "data": {
      "text/plain": [
       "<module 'matplotlib.pyplot' from '/home/ashome/.local/lib/python3.8/site-packages/matplotlib/pyplot.py'>"
      ]
     },
     "execution_count": 66,
     "metadata": {},
     "output_type": "execute_result"
    },
    {
     "data": {
      "image/png": "[encoded data removed]",
      "text/plain": [
       "<Figure size 432x288 with 2 Axes>"
      ]
     },
     "metadata": {
      "needs_background": "light"
     },
     "output_type": "display_data"
    },
    {
     "data": {
      "text/plain": [
       "<Figure size 576x576 with 0 Axes>"
      ]
     },
     "metadata": {},
     "output_type": "display_data"
    }
   ],
   "source": [
    "matrix = confusion_matrix(results['y_true'], results['y_pred'])\n",
    "model_eval.plot_confusion_matrix(matrix, classes=[0, 1], normalize=True)"
   ]
  },
  {
   "cell_type": "code",
   "execution_count": 42,
   "metadata": {},
   "outputs": [
    {
     "name": "stdout",
     "output_type": "stream",
     "text": [
      "              precision    recall  f1-score   support\n",
      "\n",
      "         0.0       0.99      0.70      0.82    355859\n",
      "         1.0       0.06      0.80      0.11      8372\n",
      "\n",
      "    accuracy                           0.70    364231\n",
      "   macro avg       0.53      0.75      0.47    364231\n",
      "weighted avg       0.97      0.70      0.81    364231\n",
      "\n"
     ]
    }
   ],
   "source": [
    "print(classification_report(results['y_true'], results['y_pred']))"
   ]
  },
  {
   "cell_type": "code",
   "execution_count": null,
   "metadata": {},
   "outputs": [],
   "source": []
  }
 ],
 "metadata": {
  "kernelspec": {
   "display_name": "venv",
   "language": "python",
   "name": "venv"
  },
  "language_info": {
   "codemirror_mode": {
    "name": "ipython",
    "version": 3
   },
   "file_extension": ".py",
   "mimetype": "text/x-python",
   "name": "python",
   "nbconvert_exporter": "python",
   "pygments_lexer": "ipython3",
   "version": "3.8.3"
  }
 },
 "nbformat": 4,
 "nbformat_minor": 4
}

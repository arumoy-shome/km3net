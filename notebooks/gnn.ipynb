{
 "cells": [
  {
   "cell_type": "code",
   "execution_count": 1,
   "metadata": {},
   "outputs": [
    {
     "name": "stderr",
     "output_type": "stream",
     "text": [
      "Using backend: pytorch\n"
     ]
    }
   ],
   "source": [
    "from context import km3net\n",
    "from km3net.utils import DATADIR\n",
    "import km3net.model.gnn as gnn\n",
    "from km3net.model.gnn import GNN\n",
    "import km3net.model.eval as model_eval\n",
    "import torch\n",
    "from torch.nn import BCELoss\n",
    "from torch.optim import Adam\n",
    "import pandas as pd\n",
    "import matplotlib.pyplot as plt\n",
    "from sklearn.metrics import confusion_matrix, classification_report"
   ]
  },
  {
   "cell_type": "code",
   "execution_count": 2,
   "metadata": {},
   "outputs": [
    {
     "name": "stdout",
     "output_type": "stream",
     "text": [
      "train size: 67, valid size: 33, test size: 100\n",
      "---\n",
      "epochs: 0, train loss: 0.050, valid loss: 0.000\n",
      "epochs: 5, train loss: 0.043, valid loss: 0.000\n",
      "epochs: 10, train loss: 0.033, valid loss: 0.000\n",
      "epochs: 15, train loss: 0.025, valid loss: 0.000\n",
      "epochs: 20, train loss: 0.017, valid loss: 0.000\n",
      "epochs: 25, train loss: 0.015, valid loss: 0.000\n",
      "epochs: 30, train loss: 0.013, valid loss: 0.000\n",
      "epochs: 35, train loss: 0.014, valid loss: 0.000\n",
      "epochs: 40, train loss: 0.009, valid loss: 0.000\n",
      "epochs: 45, train loss: 0.014, valid loss: 0.000\n",
      "epochs: 50, train loss: 0.008, valid loss: 0.000\n",
      "epochs: 55, train loss: 0.011, valid loss: 0.000\n",
      "epochs: 60, train loss: 0.008, valid loss: 0.000\n",
      "epochs: 65, train loss: 0.008, valid loss: 0.000\n",
      "epochs: 70, train loss: 0.011, valid loss: 0.000\n",
      "epochs: 75, train loss: 0.008, valid loss: 0.000\n",
      "---\n"
     ]
    }
   ],
   "source": [
    "train_path = DATADIR+'/processed/slice-615.csv'\n",
    "test_path = DATADIR+'/processed/slice-1637.csv'\n",
    "train_dl, valid_dl = gnn.prepare_train_data(train_path)\n",
    "test_dl = gnn.prepare_test_data(test_path)\n",
    "print(\"train size: {0}, valid size: {1}, test size: {2}\".format(\n",
    "    len(train_dl.dataset),len(valid_dl.dataset), len(test_dl.dataset)))\n",
    "\n",
    "device = 'cpu'\n",
    "model = GNN(1, 256).to(device)\n",
    "\n",
    "params = {\n",
    "    'model': model,\n",
    "    'optimizer': Adam(model.parameters(), lr=0.001),\n",
    "    'criterion': BCELoss(),\n",
    "    'epochs': 80,\n",
    "    'train_dl': train_dl,\n",
    "    'valid_dl': valid_dl,\n",
    "    'test_dl': test_dl\n",
    "}\n",
    "\n",
    "results = gnn.evaluate(**params)"
   ]
  },
  {
   "cell_type": "code",
   "execution_count": 3,
   "metadata": {},
   "outputs": [
    {
     "data": {
      "text/plain": [
       "<module 'matplotlib.pyplot' from '/home/ashome/.local/lib/python3.8/site-packages/matplotlib/pyplot.py'>"
      ]
     },
     "execution_count": 3,
     "metadata": {},
     "output_type": "execute_result"
    },
    {
     "data": {
      "image/png": "[encoded data removed]",
      "text/plain": [
       "<Figure size 432x288 with 1 Axes>"
      ]
     },
     "metadata": {
      "needs_background": "light"
     },
     "output_type": "display_data"
    },
    {
     "data": {
      "text/plain": [
       "<Figure size 576x576 with 0 Axes>"
      ]
     },
     "metadata": {},
     "output_type": "display_data"
    }
   ],
   "source": [
    "model_eval.plot_learning_curve(results['train_losses'],\n",
    "                                          results['valid_losses'])"
   ]
  },
  {
   "cell_type": "code",
   "execution_count": 4,
   "metadata": {},
   "outputs": [
    {
     "name": "stdout",
     "output_type": "stream",
     "text": [
      "Confusion matrix with normalization\n"
     ]
    },
    {
     "data": {
      "text/plain": [
       "<module 'matplotlib.pyplot' from '/home/ashome/.local/lib/python3.8/site-packages/matplotlib/pyplot.py'>"
      ]
     },
     "execution_count": 4,
     "metadata": {},
     "output_type": "execute_result"
    },
    {
     "data": {
      "image/png": "[encoded data removed]",
      "text/plain": [
       "<Figure size 432x288 with 2 Axes>"
      ]
     },
     "metadata": {
      "needs_background": "light"
     },
     "output_type": "display_data"
    },
    {
     "data": {
      "text/plain": [
       "<Figure size 576x576 with 0 Axes>"
      ]
     },
     "metadata": {},
     "output_type": "display_data"
    }
   ],
   "source": [
    "matrix = confusion_matrix(results['y_true'], results['y_pred'])\n",
    "model_eval.plot_confusion_matrix(matrix, classes=[0, 1], normalize=True)"
   ]
  },
  {
   "cell_type": "code",
   "execution_count": 5,
   "metadata": {},
   "outputs": [
    {
     "name": "stdout",
     "output_type": "stream",
     "text": [
      "              precision    recall  f1-score   support\n",
      "\n",
      "         0.0       1.00      1.00      1.00        15\n",
      "         1.0       1.00      1.00      1.00        85\n",
      "\n",
      "    accuracy                           1.00       100\n",
      "   macro avg       1.00      1.00      1.00       100\n",
      "weighted avg       1.00      1.00      1.00       100\n",
      "\n"
     ]
    }
   ],
   "source": [
    "print(classification_report(results['y_true'], results['y_pred']))"
   ]
  },
  {
   "cell_type": "code",
   "execution_count": null,
   "metadata": {},
   "outputs": [],
   "source": []
  }
 ],
 "metadata": {
  "kernelspec": {
   "display_name": "venv",
   "language": "python",
   "name": "venv"
  },
  "language_info": {
   "codemirror_mode": {
    "name": "ipython",
    "version": 3
   },
   "file_extension": ".py",
   "mimetype": "text/x-python",
   "name": "python",
   "nbconvert_exporter": "python",
   "pygments_lexer": "ipython3",
   "version": "3.8.3"
  }
 },
 "nbformat": 4,
 "nbformat_minor": 4
}

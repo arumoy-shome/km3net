{
 "cells": [
  {
   "cell_type": "code",
   "execution_count": 1,
   "metadata": {},
   "outputs": [],
   "source": [
    "import pandas as pd"
   ]
  },
  {
   "cell_type": "code",
   "execution_count": 2,
   "metadata": {},
   "outputs": [],
   "source": [
    "hits = pd.read_csv(\"../data/hits.csv\")\n",
    "noise = pd.read_csv(\"../data/noise.csv\")"
   ]
  },
  {
   "cell_type": "markdown",
   "metadata": {},
   "source": [
    "# Manual inspection\n",
    "Make sure the distribution before and after merging the dataframes is more or less the same."
   ]
  },
  {
   "cell_type": "code",
   "execution_count": 6,
   "metadata": {},
   "outputs": [
    {
     "output_type": "stream",
     "name": "stdout",
     "text": "hits shape: (489906, 11), noise shape: (45330980, 11), total shape: (45820886, 11)\n"
    }
   ],
   "source": [
    "print(\"hits shape: {0}, noise shape: {1}, total shape: ({2}, 11)\".format(hits.shape, noise.shape, hits.shape[0]+noise.shape[0]))"
   ]
  },
  {
   "cell_type": "code",
   "execution_count": 5,
   "metadata": {},
   "outputs": [
    {
     "output_type": "execute_result",
     "data": {
      "text/plain": "               time        dom_id        pmt_id           tot         pos_x  \\\ncount  4.533098e+07  4.533098e+07  4.533098e+07  4.533098e+07  4.533098e+07   \nmean   5.006286e+07  1.035591e+03  1.501094e+01  2.643602e+01  8.150053e-03   \nstd    2.890988e+07  5.975733e+02  8.942334e+00  2.458031e+00  5.125542e+01   \nmin   -2.000000e+00  1.000000e+00  0.000000e+00  1.200000e+01 -9.462700e+01   \n25%    2.502273e+07  5.180000e+02  7.000000e+00  2.500000e+01 -4.501800e+01   \n50%    5.006429e+07  1.036000e+03  1.500000e+01  2.600000e+01  1.309000e+00   \n75%    7.509979e+07  1.553000e+03  2.300000e+01  2.800000e+01  4.045200e+01   \nmax    1.015914e+08  2.070000e+03  3.000000e+01  4.000000e+01  9.624300e+01   \n\n              pos_y         pos_z         dir_x         dir_y         dir_z  \\\ncount  4.533098e+07  4.533098e+07  4.533098e+07  4.533098e+07  4.533098e+07   \nmean   2.416813e-04  1.171760e+02  1.938109e-04 -3.343916e-05 -1.951633e-01   \nstd    6.222462e+01  4.866544e+01  5.809644e-01  5.810222e-01  5.354744e-01   \nmin   -1.156000e+02  3.770000e+01 -9.550000e-01 -9.550000e-01 -1.000000e+00   \n25%   -5.792500e+01  7.404100e+01 -4.780000e-01 -4.780000e-01 -5.560000e-01   \n50%   -4.184000e+00  1.217000e+02  0.000000e+00 -0.000000e+00 -2.960000e-01   \n75%    4.854100e+01  1.602410e+02  4.780000e-01  4.780000e-01  2.960000e-01   \nmax    1.050240e+02  1.966110e+02  9.550000e-01  9.550000e-01  5.580000e-01   \n\n            label  \ncount  45330980.0  \nmean          0.0  \nstd           0.0  \nmin           0.0  \n25%           0.0  \n50%           0.0  \n75%           0.0  \nmax           0.0  ",
      "text/html": "<div>\n<style scoped>\n    .dataframe tbody tr th:only-of-type {\n        vertical-align: middle;\n    }\n\n    .dataframe tbody tr th {\n        vertical-align: top;\n    }\n\n    .dataframe thead th {\n        text-align: right;\n    }\n</style>\n<table border=\"1\" class=\"dataframe\">\n  <thead>\n    <tr style=\"text-align: right;\">\n      <th></th>\n      <th>time</th>\n      <th>dom_id</th>\n      <th>pmt_id</th>\n      <th>tot</th>\n      <th>pos_x</th>\n      <th>pos_y</th>\n      <th>pos_z</th>\n      <th>dir_x</th>\n      <th>dir_y</th>\n      <th>dir_z</th>\n      <th>label</th>\n    </tr>\n  </thead>\n  <tbody>\n    <tr>\n      <th>count</th>\n      <td>4.533098e+07</td>\n      <td>4.533098e+07</td>\n      <td>4.533098e+07</td>\n      <td>4.533098e+07</td>\n      <td>4.533098e+07</td>\n      <td>4.533098e+07</td>\n      <td>4.533098e+07</td>\n      <td>4.533098e+07</td>\n      <td>4.533098e+07</td>\n      <td>4.533098e+07</td>\n      <td>45330980.0</td>\n    </tr>\n    <tr>\n      <th>mean</th>\n      <td>5.006286e+07</td>\n      <td>1.035591e+03</td>\n      <td>1.501094e+01</td>\n      <td>2.643602e+01</td>\n      <td>8.150053e-03</td>\n      <td>2.416813e-04</td>\n      <td>1.171760e+02</td>\n      <td>1.938109e-04</td>\n      <td>-3.343916e-05</td>\n      <td>-1.951633e-01</td>\n      <td>0.0</td>\n    </tr>\n    <tr>\n      <th>std</th>\n      <td>2.890988e+07</td>\n      <td>5.975733e+02</td>\n      <td>8.942334e+00</td>\n      <td>2.458031e+00</td>\n      <td>5.125542e+01</td>\n      <td>6.222462e+01</td>\n      <td>4.866544e+01</td>\n      <td>5.809644e-01</td>\n      <td>5.810222e-01</td>\n      <td>5.354744e-01</td>\n      <td>0.0</td>\n    </tr>\n    <tr>\n      <th>min</th>\n      <td>-2.000000e+00</td>\n      <td>1.000000e+00</td>\n      <td>0.000000e+00</td>\n      <td>1.200000e+01</td>\n      <td>-9.462700e+01</td>\n      <td>-1.156000e+02</td>\n      <td>3.770000e+01</td>\n      <td>-9.550000e-01</td>\n      <td>-9.550000e-01</td>\n      <td>-1.000000e+00</td>\n      <td>0.0</td>\n    </tr>\n    <tr>\n      <th>25%</th>\n      <td>2.502273e+07</td>\n      <td>5.180000e+02</td>\n      <td>7.000000e+00</td>\n      <td>2.500000e+01</td>\n      <td>-4.501800e+01</td>\n      <td>-5.792500e+01</td>\n      <td>7.404100e+01</td>\n      <td>-4.780000e-01</td>\n      <td>-4.780000e-01</td>\n      <td>-5.560000e-01</td>\n      <td>0.0</td>\n    </tr>\n    <tr>\n      <th>50%</th>\n      <td>5.006429e+07</td>\n      <td>1.036000e+03</td>\n      <td>1.500000e+01</td>\n      <td>2.600000e+01</td>\n      <td>1.309000e+00</td>\n      <td>-4.184000e+00</td>\n      <td>1.217000e+02</td>\n      <td>0.000000e+00</td>\n      <td>-0.000000e+00</td>\n      <td>-2.960000e-01</td>\n      <td>0.0</td>\n    </tr>\n    <tr>\n      <th>75%</th>\n      <td>7.509979e+07</td>\n      <td>1.553000e+03</td>\n      <td>2.300000e+01</td>\n      <td>2.800000e+01</td>\n      <td>4.045200e+01</td>\n      <td>4.854100e+01</td>\n      <td>1.602410e+02</td>\n      <td>4.780000e-01</td>\n      <td>4.780000e-01</td>\n      <td>2.960000e-01</td>\n      <td>0.0</td>\n    </tr>\n    <tr>\n      <th>max</th>\n      <td>1.015914e+08</td>\n      <td>2.070000e+03</td>\n      <td>3.000000e+01</td>\n      <td>4.000000e+01</td>\n      <td>9.624300e+01</td>\n      <td>1.050240e+02</td>\n      <td>1.966110e+02</td>\n      <td>9.550000e-01</td>\n      <td>9.550000e-01</td>\n      <td>5.580000e-01</td>\n      <td>0.0</td>\n    </tr>\n  </tbody>\n</table>\n</div>"
     },
     "metadata": {},
     "execution_count": 5
    }
   ],
   "source": [
    "noise.describe()"
   ]
  },
  {
   "cell_type": "code",
   "execution_count": 17,
   "metadata": {},
   "outputs": [
    {
     "output_type": "execute_result",
     "data": {
      "text/plain": "              dom_id         pmt_id          pos_x          pos_y  \\\ncount  489906.000000  489906.000000  489906.000000  489906.000000   \nmean     1048.735653   32496.026419       0.341670      -1.514543   \nstd       592.666757   18372.661240      50.964521      62.401296   \nmin         1.000000       1.000000     -94.627000    -115.600000   \n25%       537.000000   16622.000000     -44.772000     -58.113000   \n50%      1056.000000   32727.000000       1.424000      -4.581000   \n75%      1562.000000   48398.750000      40.478000      48.480000   \nmax      2070.000000   64170.000000      96.243000     105.024000   \n\n               pos_z          dir_x          dir_y          dir_z  \\\ncount  489906.000000  489906.000000  489906.000000  489906.000000   \nmean      119.205209       0.000912      -0.002101      -0.182805   \nstd        47.553276       0.582604       0.583274       0.535609   \nmin        37.700000      -0.955000      -0.955000      -1.000000   \n25%        74.211000      -0.478000      -0.478000      -0.556000   \n50%       121.789000       0.000000      -0.000000      -0.296000   \n75%       160.241000       0.478000       0.478000       0.296000   \nmax       196.611000       0.955000       0.955000       0.558000   \n\n                 tot          time     label  \ncount  489906.000000  4.899060e+05  489906.0  \nmean       26.056821  4.893892e+07       1.0  \nstd         9.273521  2.905600e+07       0.0  \nmin         1.000000  2.844900e+04       1.0  \n25%        23.000000  2.393785e+07       1.0  \n50%        26.000000  4.810140e+07       1.0  \n75%        28.000000  7.434630e+07       1.0  \nmax       209.000000  9.998601e+07       1.0  ",
      "text/html": "<div>\n<style scoped>\n    .dataframe tbody tr th:only-of-type {\n        vertical-align: middle;\n    }\n\n    .dataframe tbody tr th {\n        vertical-align: top;\n    }\n\n    .dataframe thead th {\n        text-align: right;\n    }\n</style>\n<table border=\"1\" class=\"dataframe\">\n  <thead>\n    <tr style=\"text-align: right;\">\n      <th></th>\n      <th>dom_id</th>\n      <th>pmt_id</th>\n      <th>pos_x</th>\n      <th>pos_y</th>\n      <th>pos_z</th>\n      <th>dir_x</th>\n      <th>dir_y</th>\n      <th>dir_z</th>\n      <th>tot</th>\n      <th>time</th>\n      <th>label</th>\n    </tr>\n  </thead>\n  <tbody>\n    <tr>\n      <th>count</th>\n      <td>489906.000000</td>\n      <td>489906.000000</td>\n      <td>489906.000000</td>\n      <td>489906.000000</td>\n      <td>489906.000000</td>\n      <td>489906.000000</td>\n      <td>489906.000000</td>\n      <td>489906.000000</td>\n      <td>489906.000000</td>\n      <td>4.899060e+05</td>\n      <td>489906.0</td>\n    </tr>\n    <tr>\n      <th>mean</th>\n      <td>1048.735653</td>\n      <td>32496.026419</td>\n      <td>0.341670</td>\n      <td>-1.514543</td>\n      <td>119.205209</td>\n      <td>0.000912</td>\n      <td>-0.002101</td>\n      <td>-0.182805</td>\n      <td>26.056821</td>\n      <td>4.893892e+07</td>\n      <td>1.0</td>\n    </tr>\n    <tr>\n      <th>std</th>\n      <td>592.666757</td>\n      <td>18372.661240</td>\n      <td>50.964521</td>\n      <td>62.401296</td>\n      <td>47.553276</td>\n      <td>0.582604</td>\n      <td>0.583274</td>\n      <td>0.535609</td>\n      <td>9.273521</td>\n      <td>2.905600e+07</td>\n      <td>0.0</td>\n    </tr>\n    <tr>\n      <th>min</th>\n      <td>1.000000</td>\n      <td>1.000000</td>\n      <td>-94.627000</td>\n      <td>-115.600000</td>\n      <td>37.700000</td>\n      <td>-0.955000</td>\n      <td>-0.955000</td>\n      <td>-1.000000</td>\n      <td>1.000000</td>\n      <td>2.844900e+04</td>\n      <td>1.0</td>\n    </tr>\n    <tr>\n      <th>25%</th>\n      <td>537.000000</td>\n      <td>16622.000000</td>\n      <td>-44.772000</td>\n      <td>-58.113000</td>\n      <td>74.211000</td>\n      <td>-0.478000</td>\n      <td>-0.478000</td>\n      <td>-0.556000</td>\n      <td>23.000000</td>\n      <td>2.393785e+07</td>\n      <td>1.0</td>\n    </tr>\n    <tr>\n      <th>50%</th>\n      <td>1056.000000</td>\n      <td>32727.000000</td>\n      <td>1.424000</td>\n      <td>-4.581000</td>\n      <td>121.789000</td>\n      <td>0.000000</td>\n      <td>-0.000000</td>\n      <td>-0.296000</td>\n      <td>26.000000</td>\n      <td>4.810140e+07</td>\n      <td>1.0</td>\n    </tr>\n    <tr>\n      <th>75%</th>\n      <td>1562.000000</td>\n      <td>48398.750000</td>\n      <td>40.478000</td>\n      <td>48.480000</td>\n      <td>160.241000</td>\n      <td>0.478000</td>\n      <td>0.478000</td>\n      <td>0.296000</td>\n      <td>28.000000</td>\n      <td>7.434630e+07</td>\n      <td>1.0</td>\n    </tr>\n    <tr>\n      <th>max</th>\n      <td>2070.000000</td>\n      <td>64170.000000</td>\n      <td>96.243000</td>\n      <td>105.024000</td>\n      <td>196.611000</td>\n      <td>0.955000</td>\n      <td>0.955000</td>\n      <td>0.558000</td>\n      <td>209.000000</td>\n      <td>9.998601e+07</td>\n      <td>1.0</td>\n    </tr>\n  </tbody>\n</table>\n</div>"
     },
     "metadata": {},
     "execution_count": 17
    }
   ],
   "source": [
    "hits.describe()"
   ]
  },
  {
   "cell_type": "markdown",
   "metadata": {},
   "source": [
    "# Convert global `pmt_id` to local `pmt_id`\n",
    "\n",
    "The `pmt_id` in the hits dataset follows the global numbering scheme, to convert it to the local numbering scheme (ie. between 1-31), we apply the following formula: `pmt_id - 31 * (dom_id - 1)`. Additionally, ofset the `noise.pmt_id` by 1 so that all pmt_ids lie in 1-31."
   ]
  },
  {
   "cell_type": "code",
   "execution_count": 3,
   "metadata": {},
   "outputs": [],
   "source": [
    "noise.pmt_id = noise.pmt_id + 1"
   ]
  },
  {
   "cell_type": "code",
   "execution_count": 4,
   "metadata": {},
   "outputs": [
    {
     "output_type": "execute_result",
     "data": {
      "text/plain": "count    4.533098e+07\nmean     1.601094e+01\nstd      8.942334e+00\nmin      1.000000e+00\n25%      8.000000e+00\n50%      1.600000e+01\n75%      2.400000e+01\nmax      3.100000e+01\nName: pmt_id, dtype: float64"
     },
     "metadata": {},
     "execution_count": 4
    }
   ],
   "source": [
    "noise.pmt_id.describe()"
   ]
  },
  {
   "cell_type": "code",
   "execution_count": 5,
   "metadata": {},
   "outputs": [],
   "source": [
    "hits.pmt_id = hits.pmt_id - 31 * (hits.dom_id - 1)"
   ]
  },
  {
   "cell_type": "code",
   "execution_count": 6,
   "metadata": {},
   "outputs": [
    {
     "output_type": "execute_result",
     "data": {
      "text/plain": "count    489906.000000\nmean         16.221165\nstd           8.932694\nmin           1.000000\n25%           9.000000\n50%          16.000000\n75%          24.000000\nmax          31.000000\nName: pmt_id, dtype: float64"
     },
     "metadata": {},
     "execution_count": 6
    }
   ],
   "source": [
    "hits.pmt_id.describe()"
   ]
  },
  {
   "cell_type": "code",
   "execution_count": 7,
   "metadata": {},
   "outputs": [
    {
     "output_type": "stream",
     "name": "stdout",
     "text": "df shape: (45820886, 11)\n"
    }
   ],
   "source": [
    "df = pd.concat([hits, noise])\n",
    "print(\"df shape: {0}\".format(df.shape))"
   ]
  },
  {
   "cell_type": "code",
   "execution_count": 8,
   "metadata": {},
   "outputs": [
    {
     "output_type": "execute_result",
     "data": {
      "text/plain": "False"
     },
     "metadata": {},
     "execution_count": 8
    }
   ],
   "source": [
    "df.isna().any().any()"
   ]
  },
  {
   "cell_type": "code",
   "execution_count": 9,
   "metadata": {},
   "outputs": [
    {
     "output_type": "execute_result",
     "data": {
      "text/plain": "             dom_id        pmt_id         pos_x         pos_y         pos_z  \\\ncount  4.582089e+07  4.582089e+07  4.582089e+07  4.582089e+07  4.582089e+07   \nmean   1.035732e+03  1.601318e+01  1.171597e-02 -1.595403e-02  1.171977e+02   \nstd    5.975226e+02  8.942257e+00  5.125233e+01  6.222670e+01  4.865414e+01   \nmin    1.000000e+00  1.000000e+00 -9.462700e+01 -1.156000e+02  3.770000e+01   \n25%    5.180000e+02  8.000000e+00 -4.501800e+01 -5.792500e+01  7.404100e+01   \n50%    1.036000e+03  1.600000e+01  1.309000e+00 -4.184000e+00  1.217000e+02   \n75%    1.553000e+03  2.400000e+01  4.045200e+01  4.854100e+01  1.602410e+02   \nmax    2.070000e+03  3.100000e+01  9.624300e+01  1.050240e+02  1.966110e+02   \n\n              dir_x         dir_y         dir_z           tot          time  \\\ncount  4.582089e+07  4.582089e+07  4.582089e+07  4.582089e+07  4.582089e+07   \nmean   2.014941e-04 -5.554718e-05 -1.950312e-01  2.643196e+01  5.005085e+07   \nstd    5.809820e-01  5.810463e-01  5.354774e-01  2.626463e+00  2.891168e+07   \nmin   -9.550000e-01 -9.550000e-01 -1.000000e+00  1.000000e+00 -2.000000e+00   \n25%   -4.780000e-01 -4.780000e-01 -5.560000e-01  2.500000e+01  2.500360e+07   \n50%    0.000000e+00  0.000000e+00 -2.960000e-01  2.600000e+01  5.004222e+07   \n75%    4.780000e-01  4.780000e-01  2.960000e-01  2.800000e+01  7.509190e+07   \nmax    9.550000e-01  9.550000e-01  5.580000e-01  2.090000e+02  1.015914e+08   \n\n              label  \ncount  4.582089e+07  \nmean   1.069176e-02  \nstd    1.028467e-01  \nmin    0.000000e+00  \n25%    0.000000e+00  \n50%    0.000000e+00  \n75%    0.000000e+00  \nmax    1.000000e+00  ",
      "text/html": "<div>\n<style scoped>\n    .dataframe tbody tr th:only-of-type {\n        vertical-align: middle;\n    }\n\n    .dataframe tbody tr th {\n        vertical-align: top;\n    }\n\n    .dataframe thead th {\n        text-align: right;\n    }\n</style>\n<table border=\"1\" class=\"dataframe\">\n  <thead>\n    <tr style=\"text-align: right;\">\n      <th></th>\n      <th>dom_id</th>\n      <th>pmt_id</th>\n      <th>pos_x</th>\n      <th>pos_y</th>\n      <th>pos_z</th>\n      <th>dir_x</th>\n      <th>dir_y</th>\n      <th>dir_z</th>\n      <th>tot</th>\n      <th>time</th>\n      <th>label</th>\n    </tr>\n  </thead>\n  <tbody>\n    <tr>\n      <th>count</th>\n      <td>4.582089e+07</td>\n      <td>4.582089e+07</td>\n      <td>4.582089e+07</td>\n      <td>4.582089e+07</td>\n      <td>4.582089e+07</td>\n      <td>4.582089e+07</td>\n      <td>4.582089e+07</td>\n      <td>4.582089e+07</td>\n      <td>4.582089e+07</td>\n      <td>4.582089e+07</td>\n      <td>4.582089e+07</td>\n    </tr>\n    <tr>\n      <th>mean</th>\n      <td>1.035732e+03</td>\n      <td>1.601318e+01</td>\n      <td>1.171597e-02</td>\n      <td>-1.595403e-02</td>\n      <td>1.171977e+02</td>\n      <td>2.014941e-04</td>\n      <td>-5.554718e-05</td>\n      <td>-1.950312e-01</td>\n      <td>2.643196e+01</td>\n      <td>5.005085e+07</td>\n      <td>1.069176e-02</td>\n    </tr>\n    <tr>\n      <th>std</th>\n      <td>5.975226e+02</td>\n      <td>8.942257e+00</td>\n      <td>5.125233e+01</td>\n      <td>6.222670e+01</td>\n      <td>4.865414e+01</td>\n      <td>5.809820e-01</td>\n      <td>5.810463e-01</td>\n      <td>5.354774e-01</td>\n      <td>2.626463e+00</td>\n      <td>2.891168e+07</td>\n      <td>1.028467e-01</td>\n    </tr>\n    <tr>\n      <th>min</th>\n      <td>1.000000e+00</td>\n      <td>1.000000e+00</td>\n      <td>-9.462700e+01</td>\n      <td>-1.156000e+02</td>\n      <td>3.770000e+01</td>\n      <td>-9.550000e-01</td>\n      <td>-9.550000e-01</td>\n      <td>-1.000000e+00</td>\n      <td>1.000000e+00</td>\n      <td>-2.000000e+00</td>\n      <td>0.000000e+00</td>\n    </tr>\n    <tr>\n      <th>25%</th>\n      <td>5.180000e+02</td>\n      <td>8.000000e+00</td>\n      <td>-4.501800e+01</td>\n      <td>-5.792500e+01</td>\n      <td>7.404100e+01</td>\n      <td>-4.780000e-01</td>\n      <td>-4.780000e-01</td>\n      <td>-5.560000e-01</td>\n      <td>2.500000e+01</td>\n      <td>2.500360e+07</td>\n      <td>0.000000e+00</td>\n    </tr>\n    <tr>\n      <th>50%</th>\n      <td>1.036000e+03</td>\n      <td>1.600000e+01</td>\n      <td>1.309000e+00</td>\n      <td>-4.184000e+00</td>\n      <td>1.217000e+02</td>\n      <td>0.000000e+00</td>\n      <td>0.000000e+00</td>\n      <td>-2.960000e-01</td>\n      <td>2.600000e+01</td>\n      <td>5.004222e+07</td>\n      <td>0.000000e+00</td>\n    </tr>\n    <tr>\n      <th>75%</th>\n      <td>1.553000e+03</td>\n      <td>2.400000e+01</td>\n      <td>4.045200e+01</td>\n      <td>4.854100e+01</td>\n      <td>1.602410e+02</td>\n      <td>4.780000e-01</td>\n      <td>4.780000e-01</td>\n      <td>2.960000e-01</td>\n      <td>2.800000e+01</td>\n      <td>7.509190e+07</td>\n      <td>0.000000e+00</td>\n    </tr>\n    <tr>\n      <th>max</th>\n      <td>2.070000e+03</td>\n      <td>3.100000e+01</td>\n      <td>9.624300e+01</td>\n      <td>1.050240e+02</td>\n      <td>1.966110e+02</td>\n      <td>9.550000e-01</td>\n      <td>9.550000e-01</td>\n      <td>5.580000e-01</td>\n      <td>2.090000e+02</td>\n      <td>1.015914e+08</td>\n      <td>1.000000e+00</td>\n    </tr>\n  </tbody>\n</table>\n</div>"
     },
     "metadata": {},
     "execution_count": 9
    }
   ],
   "source": [
    "df.describe()"
   ]
  },
  {
   "cell_type": "markdown",
   "metadata": {},
   "source": [
    "# Drop rows with negative time"
   ]
  },
  {
   "cell_type": "code",
   "execution_count": 10,
   "metadata": {},
   "outputs": [
    {
     "output_type": "execute_result",
     "data": {
      "text/plain": "(45820216, 11)"
     },
     "metadata": {},
     "execution_count": 10
    }
   ],
   "source": [
    "df = df[df.time >= 0.0]\n",
    "df = df.sort_values(by=['time'])\n",
    "df.shape"
   ]
  },
  {
   "cell_type": "code",
   "execution_count": 11,
   "metadata": {},
   "outputs": [
    {
     "output_type": "execute_result",
     "data": {
      "text/plain": "array([0, 1])"
     },
     "metadata": {},
     "execution_count": 11
    }
   ],
   "source": [
    "df.label.unique()"
   ]
  },
  {
   "cell_type": "code",
   "execution_count": 12,
   "metadata": {},
   "outputs": [
    {
     "output_type": "execute_result",
     "data": {
      "text/plain": "31"
     },
     "metadata": {},
     "execution_count": 12
    }
   ],
   "source": [
    "len(df.pmt_id.unique())"
   ]
  },
  {
   "cell_type": "code",
   "execution_count": 13,
   "metadata": {},
   "outputs": [
    {
     "output_type": "execute_result",
     "data": {
      "text/plain": "          dom_id  pmt_id   pos_x    pos_y    pos_z  dir_x  dir_y  dir_z   tot  \\\n7011482    321.0     5.0 -17.661   32.245   65.231 -0.460 -0.266 -0.847  26.0   \n36188506  1653.0    23.0  11.595   85.465   65.459 -0.955 -0.000  0.296  27.0   \n6008280    275.0     9.0 -36.464   67.166  160.189  0.415  0.720 -0.556  26.0   \n36341659  1660.0    23.0  61.660  101.635  169.059 -0.955 -0.000  0.296  26.0   \n21139713   966.0    16.0 -54.510  -78.323   94.341 -0.827  0.478 -0.296  24.0   \n...          ...     ...     ...      ...      ...    ...    ...    ...   ...   \n11438019   523.0    13.0 -57.230   -5.401  196.389  0.415 -0.720 -0.556  28.0   \n8460308    387.0    12.0   0.724   66.341  121.789 -0.415 -0.720 -0.556  24.0   \n2062008     95.0     4.0 -26.436   86.737  160.131 -0.460  0.266 -0.847  23.0   \n16221364   741.0    30.0 -26.931  -21.994  178.511  0.000 -0.830  0.558  27.0   \n42496413  1941.0    17.0  77.823  -40.053   65.341 -0.827 -0.478 -0.296  23.0   \n\n                 time  label  \n7011482           0.0      0  \n36188506          0.0      0  \n6008280           0.0      0  \n36341659          0.0      0  \n21139713          0.0      0  \n...               ...    ...  \n11438019  101502104.0      0  \n8460308   101516467.0      0  \n2062008   101545421.0      0  \n16221364  101581891.0      0  \n42496413  101591357.0      0  \n\n[45820216 rows x 11 columns]",
      "text/html": "<div>\n<style scoped>\n    .dataframe tbody tr th:only-of-type {\n        vertical-align: middle;\n    }\n\n    .dataframe tbody tr th {\n        vertical-align: top;\n    }\n\n    .dataframe thead th {\n        text-align: right;\n    }\n</style>\n<table border=\"1\" class=\"dataframe\">\n  <thead>\n    <tr style=\"text-align: right;\">\n      <th></th>\n      <th>dom_id</th>\n      <th>pmt_id</th>\n      <th>pos_x</th>\n      <th>pos_y</th>\n      <th>pos_z</th>\n      <th>dir_x</th>\n      <th>dir_y</th>\n      <th>dir_z</th>\n      <th>tot</th>\n      <th>time</th>\n      <th>label</th>\n    </tr>\n  </thead>\n  <tbody>\n    <tr>\n      <th>7011482</th>\n      <td>321.0</td>\n      <td>5.0</td>\n      <td>-17.661</td>\n      <td>32.245</td>\n      <td>65.231</td>\n      <td>-0.460</td>\n      <td>-0.266</td>\n      <td>-0.847</td>\n      <td>26.0</td>\n      <td>0.0</td>\n      <td>0</td>\n    </tr>\n    <tr>\n      <th>36188506</th>\n      <td>1653.0</td>\n      <td>23.0</td>\n      <td>11.595</td>\n      <td>85.465</td>\n      <td>65.459</td>\n      <td>-0.955</td>\n      <td>-0.000</td>\n      <td>0.296</td>\n      <td>27.0</td>\n      <td>0.0</td>\n      <td>0</td>\n    </tr>\n    <tr>\n      <th>6008280</th>\n      <td>275.0</td>\n      <td>9.0</td>\n      <td>-36.464</td>\n      <td>67.166</td>\n      <td>160.189</td>\n      <td>0.415</td>\n      <td>0.720</td>\n      <td>-0.556</td>\n      <td>26.0</td>\n      <td>0.0</td>\n      <td>0</td>\n    </tr>\n    <tr>\n      <th>36341659</th>\n      <td>1660.0</td>\n      <td>23.0</td>\n      <td>61.660</td>\n      <td>101.635</td>\n      <td>169.059</td>\n      <td>-0.955</td>\n      <td>-0.000</td>\n      <td>0.296</td>\n      <td>26.0</td>\n      <td>0.0</td>\n      <td>0</td>\n    </tr>\n    <tr>\n      <th>21139713</th>\n      <td>966.0</td>\n      <td>16.0</td>\n      <td>-54.510</td>\n      <td>-78.323</td>\n      <td>94.341</td>\n      <td>-0.827</td>\n      <td>0.478</td>\n      <td>-0.296</td>\n      <td>24.0</td>\n      <td>0.0</td>\n      <td>0</td>\n    </tr>\n    <tr>\n      <th>...</th>\n      <td>...</td>\n      <td>...</td>\n      <td>...</td>\n      <td>...</td>\n      <td>...</td>\n      <td>...</td>\n      <td>...</td>\n      <td>...</td>\n      <td>...</td>\n      <td>...</td>\n      <td>...</td>\n    </tr>\n    <tr>\n      <th>11438019</th>\n      <td>523.0</td>\n      <td>13.0</td>\n      <td>-57.230</td>\n      <td>-5.401</td>\n      <td>196.389</td>\n      <td>0.415</td>\n      <td>-0.720</td>\n      <td>-0.556</td>\n      <td>28.0</td>\n      <td>101502104.0</td>\n      <td>0</td>\n    </tr>\n    <tr>\n      <th>8460308</th>\n      <td>387.0</td>\n      <td>12.0</td>\n      <td>0.724</td>\n      <td>66.341</td>\n      <td>121.789</td>\n      <td>-0.415</td>\n      <td>-0.720</td>\n      <td>-0.556</td>\n      <td>24.0</td>\n      <td>101516467.0</td>\n      <td>0</td>\n    </tr>\n    <tr>\n      <th>2062008</th>\n      <td>95.0</td>\n      <td>4.0</td>\n      <td>-26.436</td>\n      <td>86.737</td>\n      <td>160.131</td>\n      <td>-0.460</td>\n      <td>0.266</td>\n      <td>-0.847</td>\n      <td>23.0</td>\n      <td>101545421.0</td>\n      <td>0</td>\n    </tr>\n    <tr>\n      <th>16221364</th>\n      <td>741.0</td>\n      <td>30.0</td>\n      <td>-26.931</td>\n      <td>-21.994</td>\n      <td>178.511</td>\n      <td>0.000</td>\n      <td>-0.830</td>\n      <td>0.558</td>\n      <td>27.0</td>\n      <td>101581891.0</td>\n      <td>0</td>\n    </tr>\n    <tr>\n      <th>42496413</th>\n      <td>1941.0</td>\n      <td>17.0</td>\n      <td>77.823</td>\n      <td>-40.053</td>\n      <td>65.341</td>\n      <td>-0.827</td>\n      <td>-0.478</td>\n      <td>-0.296</td>\n      <td>23.0</td>\n      <td>101591357.0</td>\n      <td>0</td>\n    </tr>\n  </tbody>\n</table>\n<p>45820216 rows × 11 columns</p>\n</div>"
     },
     "metadata": {},
     "execution_count": 13
    }
   ],
   "source": [
    "df"
   ]
  },
  {
   "cell_type": "code",
   "execution_count": 14,
   "metadata": {},
   "outputs": [],
   "source": [
    "df.to_csv(\"../data/data.csv\", index=False)"
   ]
  },
  {
   "cell_type": "code",
   "execution_count": null,
   "metadata": {},
   "outputs": [],
   "source": []
  }
 ],
 "metadata": {
  "language_info": {
   "codemirror_mode": {
    "name": "ipython",
    "version": 3
   },
   "file_extension": ".py",
   "mimetype": "text/x-python",
   "name": "python",
   "nbconvert_exporter": "python",
   "pygments_lexer": "ipython3",
   "version": "3.7.3-final"
  },
  "orig_nbformat": 2,
  "kernelspec": {
   "name": "python37364bitvenvvenv5641dfe19587411a984722bbcd7e3b3e",
   "display_name": "Python 3.7.3 64-bit ('venv': venv)"
  }
 },
 "nbformat": 4,
 "nbformat_minor": 2
}
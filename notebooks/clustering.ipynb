{
 "cells": [
  {
   "cell_type": "markdown",
   "metadata": {},
   "source": [
    "# Clustering\n",
    "The ultimate objective of the project is to identify timeslices with event hits. Clustering seems natural for this usecase since it operates on the notion of \"distance\" between samples which is indeed the case for this dataset (hits from related events occur close in space and time). Since, the number of hits originating from an event varies every timeslice, we cannot reliably estimate the number of clusters we want the model to learn. Thus, we are now in unsupervised territory."
   ]
  },
  {
   "cell_type": "code",
   "execution_count": 45,
   "metadata": {},
   "outputs": [],
   "source": [
    "from sklearn.cluster import DBSCAN\n",
    "from sklearn.preprocessing import StandardScaler\n",
    "from sklearn.model_selection import train_test_split\n",
    "import pandas as pd\n",
    "import numpy as np\n",
    "from context import km3net\n",
    "from km3net.utils import DATADIR"
   ]
  },
  {
   "cell_type": "code",
   "execution_count": 31,
   "metadata": {},
   "outputs": [
    {
     "data": {
      "text/html": [
       "<div>\n",
       "<style scoped>\n",
       "    .dataframe tbody tr th:only-of-type {\n",
       "        vertical-align: middle;\n",
       "    }\n",
       "\n",
       "    .dataframe tbody tr th {\n",
       "        vertical-align: top;\n",
       "    }\n",
       "\n",
       "    .dataframe thead th {\n",
       "        text-align: right;\n",
       "    }\n",
       "</style>\n",
       "<table border=\"1\" class=\"dataframe\">\n",
       "  <thead>\n",
       "    <tr style=\"text-align: right;\">\n",
       "      <th></th>\n",
       "      <th>pos_x</th>\n",
       "      <th>pos_y</th>\n",
       "      <th>pos_z</th>\n",
       "      <th>time</th>\n",
       "      <th>label</th>\n",
       "      <th>event_id</th>\n",
       "      <th>timeslice</th>\n",
       "    </tr>\n",
       "  </thead>\n",
       "  <tbody>\n",
       "    <tr>\n",
       "      <th>0</th>\n",
       "      <td>48.363</td>\n",
       "      <td>-24.102</td>\n",
       "      <td>83.611</td>\n",
       "      <td>9225002.0</td>\n",
       "      <td>0</td>\n",
       "      <td>NaN</td>\n",
       "      <td>615</td>\n",
       "    </tr>\n",
       "    <tr>\n",
       "      <th>1</th>\n",
       "      <td>-37.784</td>\n",
       "      <td>30.774</td>\n",
       "      <td>94.341</td>\n",
       "      <td>9225007.0</td>\n",
       "      <td>0</td>\n",
       "      <td>NaN</td>\n",
       "      <td>615</td>\n",
       "    </tr>\n",
       "    <tr>\n",
       "      <th>2</th>\n",
       "      <td>-75.557</td>\n",
       "      <td>-6.893</td>\n",
       "      <td>56.111</td>\n",
       "      <td>9225008.0</td>\n",
       "      <td>0</td>\n",
       "      <td>NaN</td>\n",
       "      <td>615</td>\n",
       "    </tr>\n",
       "    <tr>\n",
       "      <th>3</th>\n",
       "      <td>-27.018</td>\n",
       "      <td>-60.655</td>\n",
       "      <td>150.731</td>\n",
       "      <td>9225013.0</td>\n",
       "      <td>0</td>\n",
       "      <td>NaN</td>\n",
       "      <td>615</td>\n",
       "    </tr>\n",
       "    <tr>\n",
       "      <th>4</th>\n",
       "      <td>76.914</td>\n",
       "      <td>-77.120</td>\n",
       "      <td>150.789</td>\n",
       "      <td>9225014.0</td>\n",
       "      <td>0</td>\n",
       "      <td>NaN</td>\n",
       "      <td>615</td>\n",
       "    </tr>\n",
       "    <tr>\n",
       "      <th>...</th>\n",
       "      <td>...</td>\n",
       "      <td>...</td>\n",
       "      <td>...</td>\n",
       "      <td>...</td>\n",
       "      <td>...</td>\n",
       "      <td>...</td>\n",
       "      <td>...</td>\n",
       "    </tr>\n",
       "    <tr>\n",
       "      <th>8478</th>\n",
       "      <td>50.125</td>\n",
       "      <td>12.122</td>\n",
       "      <td>139.831</td>\n",
       "      <td>9239990.0</td>\n",
       "      <td>0</td>\n",
       "      <td>NaN</td>\n",
       "      <td>615</td>\n",
       "    </tr>\n",
       "    <tr>\n",
       "      <th>8479</th>\n",
       "      <td>-74.918</td>\n",
       "      <td>65.066</td>\n",
       "      <td>74.041</td>\n",
       "      <td>9239993.0</td>\n",
       "      <td>0</td>\n",
       "      <td>NaN</td>\n",
       "      <td>615</td>\n",
       "    </tr>\n",
       "    <tr>\n",
       "      <th>8480</th>\n",
       "      <td>-94.292</td>\n",
       "      <td>-6.028</td>\n",
       "      <td>103.911</td>\n",
       "      <td>9239996.0</td>\n",
       "      <td>0</td>\n",
       "      <td>NaN</td>\n",
       "      <td>615</td>\n",
       "    </tr>\n",
       "    <tr>\n",
       "      <th>8481</th>\n",
       "      <td>11.829</td>\n",
       "      <td>13.744</td>\n",
       "      <td>130.489</td>\n",
       "      <td>9239998.0</td>\n",
       "      <td>0</td>\n",
       "      <td>NaN</td>\n",
       "      <td>615</td>\n",
       "    </tr>\n",
       "    <tr>\n",
       "      <th>8482</th>\n",
       "      <td>-26.345</td>\n",
       "      <td>-94.841</td>\n",
       "      <td>103.741</td>\n",
       "      <td>9240000.0</td>\n",
       "      <td>0</td>\n",
       "      <td>NaN</td>\n",
       "      <td>615</td>\n",
       "    </tr>\n",
       "  </tbody>\n",
       "</table>\n",
       "<p>8483 rows × 7 columns</p>\n",
       "</div>"
      ],
      "text/plain": [
       "       pos_x   pos_y    pos_z       time  label  event_id  timeslice\n",
       "0     48.363 -24.102   83.611  9225002.0      0       NaN        615\n",
       "1    -37.784  30.774   94.341  9225007.0      0       NaN        615\n",
       "2    -75.557  -6.893   56.111  9225008.0      0       NaN        615\n",
       "3    -27.018 -60.655  150.731  9225013.0      0       NaN        615\n",
       "4     76.914 -77.120  150.789  9225014.0      0       NaN        615\n",
       "...      ...     ...      ...        ...    ...       ...        ...\n",
       "8478  50.125  12.122  139.831  9239990.0      0       NaN        615\n",
       "8479 -74.918  65.066   74.041  9239993.0      0       NaN        615\n",
       "8480 -94.292  -6.028  103.911  9239996.0      0       NaN        615\n",
       "8481  11.829  13.744  130.489  9239998.0      0       NaN        615\n",
       "8482 -26.345 -94.841  103.741  9240000.0      0       NaN        615\n",
       "\n",
       "[8483 rows x 7 columns]"
      ]
     },
     "execution_count": 31,
     "metadata": {},
     "output_type": "execute_result"
    }
   ],
   "source": [
    "df = pd.read_csv(DATADIR+'/processed/slice-615.csv')\n",
    "df"
   ]
  },
  {
   "cell_type": "code",
   "execution_count": 15,
   "metadata": {},
   "outputs": [
    {
     "data": {
      "text/html": [
       "<div>\n",
       "<style scoped>\n",
       "    .dataframe tbody tr th:only-of-type {\n",
       "        vertical-align: middle;\n",
       "    }\n",
       "\n",
       "    .dataframe tbody tr th {\n",
       "        vertical-align: top;\n",
       "    }\n",
       "\n",
       "    .dataframe thead th {\n",
       "        text-align: right;\n",
       "    }\n",
       "</style>\n",
       "<table border=\"1\" class=\"dataframe\">\n",
       "  <thead>\n",
       "    <tr style=\"text-align: right;\">\n",
       "      <th></th>\n",
       "      <th>pos_x</th>\n",
       "      <th>pos_y</th>\n",
       "      <th>pos_z</th>\n",
       "      <th>time</th>\n",
       "      <th>label</th>\n",
       "      <th>timeslice</th>\n",
       "    </tr>\n",
       "    <tr>\n",
       "      <th>event_id</th>\n",
       "      <th></th>\n",
       "      <th></th>\n",
       "      <th></th>\n",
       "      <th></th>\n",
       "      <th></th>\n",
       "      <th></th>\n",
       "    </tr>\n",
       "  </thead>\n",
       "  <tbody>\n",
       "    <tr>\n",
       "      <th>1163.0</th>\n",
       "      <td>106</td>\n",
       "      <td>106</td>\n",
       "      <td>106</td>\n",
       "      <td>106</td>\n",
       "      <td>106</td>\n",
       "      <td>106</td>\n",
       "    </tr>\n",
       "    <tr>\n",
       "      <th>2042.0</th>\n",
       "      <td>938</td>\n",
       "      <td>938</td>\n",
       "      <td>938</td>\n",
       "      <td>938</td>\n",
       "      <td>938</td>\n",
       "      <td>938</td>\n",
       "    </tr>\n",
       "    <tr>\n",
       "      <th>2322.0</th>\n",
       "      <td>461</td>\n",
       "      <td>461</td>\n",
       "      <td>461</td>\n",
       "      <td>461</td>\n",
       "      <td>461</td>\n",
       "      <td>461</td>\n",
       "    </tr>\n",
       "    <tr>\n",
       "      <th>2363.0</th>\n",
       "      <td>187</td>\n",
       "      <td>187</td>\n",
       "      <td>187</td>\n",
       "      <td>187</td>\n",
       "      <td>187</td>\n",
       "      <td>187</td>\n",
       "    </tr>\n",
       "  </tbody>\n",
       "</table>\n",
       "</div>"
      ],
      "text/plain": [
       "          pos_x  pos_y  pos_z  time  label  timeslice\n",
       "event_id                                             \n",
       "1163.0      106    106    106   106    106        106\n",
       "2042.0      938    938    938   938    938        938\n",
       "2322.0      461    461    461   461    461        461\n",
       "2363.0      187    187    187   187    187        187"
      ]
     },
     "execution_count": 15,
     "metadata": {},
     "output_type": "execute_result"
    }
   ],
   "source": [
    "df.groupby('event_id').count()"
   ]
  },
  {
   "cell_type": "markdown",
   "metadata": {},
   "source": [
    "There are event hits from 4 events, so we should expect 5 clusters (1 additional for noise hits)."
   ]
  },
  {
   "cell_type": "code",
   "execution_count": 32,
   "metadata": {},
   "outputs": [
    {
     "name": "stdout",
     "output_type": "stream",
     "text": [
      "shape X_train: (6362, 4)\n",
      "shape X_test: (2121, 4)\n"
     ]
    }
   ],
   "source": [
    "X_train, X_test = train_test_split(df[['pos_x', 'pos_y', 'pos_z', 'time']].to_numpy(),\n",
    "                                                   random_state=42)\n",
    "print('shape X_train:', X_train.shape)\n",
    "print('shape X_test:', X_test.shape)"
   ]
  },
  {
   "cell_type": "code",
   "execution_count": 33,
   "metadata": {},
   "outputs": [
    {
     "data": {
      "text/plain": [
       "array([[-2.664500e+01,  4.834400e+01,  1.507310e+02,  9.232815e+06],\n",
       "       [-3.715500e+01, -4.216600e+01,  3.795900e+01,  9.237183e+06],\n",
       "       [ 6.916400e+01,  4.872100e+01,  1.782890e+02,  9.226666e+06],\n",
       "       ...,\n",
       "       [ 5.937000e+01, -4.307000e+01,  1.966110e+02,  9.233700e+06],\n",
       "       [-1.794800e+01,  1.046680e+02,  1.400590e+02,  9.226299e+06],\n",
       "       [ 4.069800e+01,  6.717900e+01,  1.783410e+02,  9.237752e+06]])"
      ]
     },
     "execution_count": 33,
     "metadata": {},
     "output_type": "execute_result"
    }
   ],
   "source": [
    "X_train"
   ]
  },
  {
   "cell_type": "code",
   "execution_count": 34,
   "metadata": {},
   "outputs": [
    {
     "data": {
      "text/plain": [
       "array([-2.54972839e+00,  9.30161742e-01,  1.14471873e+02,  9.23233953e+06])"
      ]
     },
     "execution_count": 34,
     "metadata": {},
     "output_type": "execute_result"
    }
   ],
   "source": [
    "scaler = StandardScaler().fit(X_train)\n",
    "scaler.mean_"
   ]
  },
  {
   "cell_type": "code",
   "execution_count": 35,
   "metadata": {},
   "outputs": [],
   "source": [
    "X_train = scaler.transform(X_train)\n",
    "X_test = scaler.transform(X_test)"
   ]
  },
  {
   "cell_type": "code",
   "execution_count": 39,
   "metadata": {},
   "outputs": [
    {
     "data": {
      "text/plain": [
       "array([[-0.48571926,  0.78240577,  0.73048282,  0.11290825],\n",
       "       [-0.6975828 , -0.71115706, -1.54144194,  1.15016656],\n",
       "       [ 1.44562551,  0.78862689,  1.28567118, -1.34727979],\n",
       "       ...,\n",
       "       [ 1.2481953 , -0.72607454,  1.65478945,  0.32306704],\n",
       "       [-0.31040269,  1.71184377,  0.51548281, -1.43443038],\n",
       "       [ 0.87179987,  1.09321404,  1.28671878,  1.2852856 ]])"
      ]
     },
     "execution_count": 39,
     "metadata": {},
     "output_type": "execute_result"
    }
   ],
   "source": [
    "X_train"
   ]
  },
  {
   "cell_type": "code",
   "execution_count": 40,
   "metadata": {},
   "outputs": [],
   "source": [
    "cluster = DBSCAN().fit(X_train)"
   ]
  },
  {
   "cell_type": "code",
   "execution_count": 46,
   "metadata": {},
   "outputs": [
    {
     "data": {
      "text/plain": [
       "array([-1,  0])"
      ]
     },
     "execution_count": 46,
     "metadata": {},
     "output_type": "execute_result"
    }
   ],
   "source": [
    "np.unique(cluster.labels_)"
   ]
  },
  {
   "cell_type": "code",
   "execution_count": 47,
   "metadata": {},
   "outputs": [
    {
     "data": {
      "text/plain": [
       "0       0\n",
       "1       0\n",
       "2       0\n",
       "3       0\n",
       "4       0\n",
       "       ..\n",
       "6357    0\n",
       "6358    0\n",
       "6359    0\n",
       "6360    0\n",
       "6361    0\n",
       "Length: 6362, dtype: int64"
      ]
     },
     "execution_count": 47,
     "metadata": {},
     "output_type": "execute_result"
    }
   ],
   "source": [
    "label = pd.Series(cluster.labels_)\n",
    "label"
   ]
  },
  {
   "cell_type": "code",
   "execution_count": 51,
   "metadata": {},
   "outputs": [
    {
     "data": {
      "text/plain": [
       " 0    6347\n",
       "-1      15\n",
       "dtype: int64"
      ]
     },
     "execution_count": 51,
     "metadata": {},
     "output_type": "execute_result"
    }
   ],
   "source": [
    "label.value_counts()"
   ]
  },
  {
   "cell_type": "code",
   "execution_count": null,
   "metadata": {},
   "outputs": [],
   "source": []
  }
 ],
 "metadata": {
  "kernelspec": {
   "display_name": "venv",
   "language": "python",
   "name": "venv"
  },
  "language_info": {
   "codemirror_mode": {
    "name": "ipython",
    "version": 3
   },
   "file_extension": ".py",
   "mimetype": "text/x-python",
   "name": "python",
   "nbconvert_exporter": "python",
   "pygments_lexer": "ipython3",
   "version": "3.8.3"
  }
 },
 "nbformat": 4,
 "nbformat_minor": 4
}
